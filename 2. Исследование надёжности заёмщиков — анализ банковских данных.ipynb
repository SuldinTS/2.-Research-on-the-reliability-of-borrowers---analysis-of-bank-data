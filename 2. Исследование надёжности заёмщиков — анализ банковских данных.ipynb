{
 "cells": [
  {
   "cell_type": "markdown",
   "metadata": {},
   "source": [
    "# Исследование надёжности заёмщиков\n",
    "\n",
    "Заказчик — кредитный отдел банка. Нужно разобраться, влияет ли семейное положение и количество детей клиента на факт погашения кредита в срок. Входные данные от банка — статистика о платёжеспособности клиентов.\n",
    "\n",
    "Результаты исследования будут учтены при построении модели **кредитного скоринга** — специальной системы, которая оценивает способность потенциального заёмщика вернуть кредит банку.\n",
    "\n",
    "children — количество детей в семье\n",
    "\n",
    "days_employed — общий трудовой стаж в днях\n",
    "\n",
    "dob_years — возраст клиента в годах\n",
    "\n",
    "education — уровень образования клиента\n",
    "\n",
    "education_id — идентификатор уровня образования\n",
    "\n",
    "family_status — семейное положение\n",
    "\n",
    "family_status_id — идентификатор семейного положения\n",
    "\n",
    "gender — пол клиента\n",
    "\n",
    "income_type — тип занятости\n",
    "\n",
    "debt — имел ли задолженность по возврату кредитов\n",
    "\n",
    "total_income — ежемесячный доход\n",
    "\n",
    "purpose — цель получения кредита\n"
   ]
  },
  {
   "cell_type": "markdown",
   "metadata": {},
   "source": [
    "## Шаг 1. Откройте файл с данными и изучите общую информацию"
   ]
  },
  {
   "cell_type": "code",
   "execution_count": 1,
   "metadata": {},
   "outputs": [
    {
     "name": "stdout",
     "output_type": "stream",
     "text": [
      "<class 'pandas.core.frame.DataFrame'>\n",
      "RangeIndex: 21525 entries, 0 to 21524\n",
      "Data columns (total 12 columns):\n",
      "children            21525 non-null int64\n",
      "days_employed       19351 non-null float64\n",
      "dob_years           21525 non-null int64\n",
      "education           21525 non-null object\n",
      "education_id        21525 non-null int64\n",
      "family_status       21525 non-null object\n",
      "family_status_id    21525 non-null int64\n",
      "gender              21525 non-null object\n",
      "income_type         21525 non-null object\n",
      "debt                21525 non-null int64\n",
      "total_income        19351 non-null float64\n",
      "purpose             21525 non-null object\n",
      "dtypes: float64(2), int64(5), object(5)\n",
      "memory usage: 2.0+ MB\n"
     ]
    },
    {
     "data": {
      "text/html": [
       "<div>\n",
       "<style scoped>\n",
       "    .dataframe tbody tr th:only-of-type {\n",
       "        vertical-align: middle;\n",
       "    }\n",
       "\n",
       "    .dataframe tbody tr th {\n",
       "        vertical-align: top;\n",
       "    }\n",
       "\n",
       "    .dataframe thead th {\n",
       "        text-align: right;\n",
       "    }\n",
       "</style>\n",
       "<table border=\"1\" class=\"dataframe\">\n",
       "  <thead>\n",
       "    <tr style=\"text-align: right;\">\n",
       "      <th></th>\n",
       "      <th>children</th>\n",
       "      <th>days_employed</th>\n",
       "      <th>dob_years</th>\n",
       "      <th>education</th>\n",
       "      <th>education_id</th>\n",
       "      <th>family_status</th>\n",
       "      <th>family_status_id</th>\n",
       "      <th>gender</th>\n",
       "      <th>income_type</th>\n",
       "      <th>debt</th>\n",
       "      <th>total_income</th>\n",
       "      <th>purpose</th>\n",
       "    </tr>\n",
       "  </thead>\n",
       "  <tbody>\n",
       "    <tr>\n",
       "      <td>0</td>\n",
       "      <td>1</td>\n",
       "      <td>-8437.673028</td>\n",
       "      <td>42</td>\n",
       "      <td>высшее</td>\n",
       "      <td>0</td>\n",
       "      <td>женат / замужем</td>\n",
       "      <td>0</td>\n",
       "      <td>F</td>\n",
       "      <td>сотрудник</td>\n",
       "      <td>0</td>\n",
       "      <td>253875.639453</td>\n",
       "      <td>покупка жилья</td>\n",
       "    </tr>\n",
       "    <tr>\n",
       "      <td>1</td>\n",
       "      <td>1</td>\n",
       "      <td>-4024.803754</td>\n",
       "      <td>36</td>\n",
       "      <td>среднее</td>\n",
       "      <td>1</td>\n",
       "      <td>женат / замужем</td>\n",
       "      <td>0</td>\n",
       "      <td>F</td>\n",
       "      <td>сотрудник</td>\n",
       "      <td>0</td>\n",
       "      <td>112080.014102</td>\n",
       "      <td>приобретение автомобиля</td>\n",
       "    </tr>\n",
       "    <tr>\n",
       "      <td>2</td>\n",
       "      <td>0</td>\n",
       "      <td>-5623.422610</td>\n",
       "      <td>33</td>\n",
       "      <td>Среднее</td>\n",
       "      <td>1</td>\n",
       "      <td>женат / замужем</td>\n",
       "      <td>0</td>\n",
       "      <td>M</td>\n",
       "      <td>сотрудник</td>\n",
       "      <td>0</td>\n",
       "      <td>145885.952297</td>\n",
       "      <td>покупка жилья</td>\n",
       "    </tr>\n",
       "    <tr>\n",
       "      <td>3</td>\n",
       "      <td>3</td>\n",
       "      <td>-4124.747207</td>\n",
       "      <td>32</td>\n",
       "      <td>среднее</td>\n",
       "      <td>1</td>\n",
       "      <td>женат / замужем</td>\n",
       "      <td>0</td>\n",
       "      <td>M</td>\n",
       "      <td>сотрудник</td>\n",
       "      <td>0</td>\n",
       "      <td>267628.550329</td>\n",
       "      <td>дополнительное образование</td>\n",
       "    </tr>\n",
       "    <tr>\n",
       "      <td>4</td>\n",
       "      <td>0</td>\n",
       "      <td>340266.072047</td>\n",
       "      <td>53</td>\n",
       "      <td>среднее</td>\n",
       "      <td>1</td>\n",
       "      <td>гражданский брак</td>\n",
       "      <td>1</td>\n",
       "      <td>F</td>\n",
       "      <td>пенсионер</td>\n",
       "      <td>0</td>\n",
       "      <td>158616.077870</td>\n",
       "      <td>сыграть свадьбу</td>\n",
       "    </tr>\n",
       "    <tr>\n",
       "      <td>5</td>\n",
       "      <td>0</td>\n",
       "      <td>-926.185831</td>\n",
       "      <td>27</td>\n",
       "      <td>высшее</td>\n",
       "      <td>0</td>\n",
       "      <td>гражданский брак</td>\n",
       "      <td>1</td>\n",
       "      <td>M</td>\n",
       "      <td>компаньон</td>\n",
       "      <td>0</td>\n",
       "      <td>255763.565419</td>\n",
       "      <td>покупка жилья</td>\n",
       "    </tr>\n",
       "    <tr>\n",
       "      <td>6</td>\n",
       "      <td>0</td>\n",
       "      <td>-2879.202052</td>\n",
       "      <td>43</td>\n",
       "      <td>высшее</td>\n",
       "      <td>0</td>\n",
       "      <td>женат / замужем</td>\n",
       "      <td>0</td>\n",
       "      <td>F</td>\n",
       "      <td>компаньон</td>\n",
       "      <td>0</td>\n",
       "      <td>240525.971920</td>\n",
       "      <td>операции с жильем</td>\n",
       "    </tr>\n",
       "    <tr>\n",
       "      <td>7</td>\n",
       "      <td>0</td>\n",
       "      <td>-152.779569</td>\n",
       "      <td>50</td>\n",
       "      <td>СРЕДНЕЕ</td>\n",
       "      <td>1</td>\n",
       "      <td>женат / замужем</td>\n",
       "      <td>0</td>\n",
       "      <td>M</td>\n",
       "      <td>сотрудник</td>\n",
       "      <td>0</td>\n",
       "      <td>135823.934197</td>\n",
       "      <td>образование</td>\n",
       "    </tr>\n",
       "    <tr>\n",
       "      <td>8</td>\n",
       "      <td>2</td>\n",
       "      <td>-6929.865299</td>\n",
       "      <td>35</td>\n",
       "      <td>ВЫСШЕЕ</td>\n",
       "      <td>0</td>\n",
       "      <td>гражданский брак</td>\n",
       "      <td>1</td>\n",
       "      <td>F</td>\n",
       "      <td>сотрудник</td>\n",
       "      <td>0</td>\n",
       "      <td>95856.832424</td>\n",
       "      <td>на проведение свадьбы</td>\n",
       "    </tr>\n",
       "    <tr>\n",
       "      <td>9</td>\n",
       "      <td>0</td>\n",
       "      <td>-2188.756445</td>\n",
       "      <td>41</td>\n",
       "      <td>среднее</td>\n",
       "      <td>1</td>\n",
       "      <td>женат / замужем</td>\n",
       "      <td>0</td>\n",
       "      <td>M</td>\n",
       "      <td>сотрудник</td>\n",
       "      <td>0</td>\n",
       "      <td>144425.938277</td>\n",
       "      <td>покупка жилья для семьи</td>\n",
       "    </tr>\n",
       "  </tbody>\n",
       "</table>\n",
       "</div>"
      ],
      "text/plain": [
       "   children  days_employed  dob_years education  education_id  \\\n",
       "0         1   -8437.673028         42    высшее             0   \n",
       "1         1   -4024.803754         36   среднее             1   \n",
       "2         0   -5623.422610         33   Среднее             1   \n",
       "3         3   -4124.747207         32   среднее             1   \n",
       "4         0  340266.072047         53   среднее             1   \n",
       "5         0    -926.185831         27    высшее             0   \n",
       "6         0   -2879.202052         43    высшее             0   \n",
       "7         0    -152.779569         50   СРЕДНЕЕ             1   \n",
       "8         2   -6929.865299         35    ВЫСШЕЕ             0   \n",
       "9         0   -2188.756445         41   среднее             1   \n",
       "\n",
       "      family_status  family_status_id gender income_type  debt   total_income  \\\n",
       "0   женат / замужем                 0      F   сотрудник     0  253875.639453   \n",
       "1   женат / замужем                 0      F   сотрудник     0  112080.014102   \n",
       "2   женат / замужем                 0      M   сотрудник     0  145885.952297   \n",
       "3   женат / замужем                 0      M   сотрудник     0  267628.550329   \n",
       "4  гражданский брак                 1      F   пенсионер     0  158616.077870   \n",
       "5  гражданский брак                 1      M   компаньон     0  255763.565419   \n",
       "6   женат / замужем                 0      F   компаньон     0  240525.971920   \n",
       "7   женат / замужем                 0      M   сотрудник     0  135823.934197   \n",
       "8  гражданский брак                 1      F   сотрудник     0   95856.832424   \n",
       "9   женат / замужем                 0      M   сотрудник     0  144425.938277   \n",
       "\n",
       "                      purpose  \n",
       "0               покупка жилья  \n",
       "1     приобретение автомобиля  \n",
       "2               покупка жилья  \n",
       "3  дополнительное образование  \n",
       "4             сыграть свадьбу  \n",
       "5               покупка жилья  \n",
       "6           операции с жильем  \n",
       "7                 образование  \n",
       "8       на проведение свадьбы  \n",
       "9     покупка жилья для семьи  "
      ]
     },
     "execution_count": 1,
     "metadata": {},
     "output_type": "execute_result"
    }
   ],
   "source": [
    "import pandas as pd\n",
    "from pymystem3 import Mystem\n",
    "from collections import Counter\n",
    "m = Mystem()\n",
    "data=pd.read_csv('/datasets/data.csv')\n",
    "data.info()\n",
    "data.head(10)"
   ]
  },
  {
   "cell_type": "markdown",
   "metadata": {},
   "source": [
    "**Вывод**"
   ]
  },
  {
   "cell_type": "markdown",
   "metadata": {},
   "source": [
    "-В столбцах \"days_employed\" и \"total_income\" явно имеются пропуски;\n",
    "\n",
    "**По первым 10 строкам датасета можно выделить следующие проблемы:**\n",
    "\n",
    "-В столбце о стаже работы имеются отрицательные значения;\n",
    "\n",
    "-Столбец \"образование\" заполнен разным регистром.\n"
   ]
  },
  {
   "cell_type": "markdown",
   "metadata": {},
   "source": [
    "## Шаг 2. Предобработка данных"
   ]
  },
  {
   "cell_type": "markdown",
   "metadata": {},
   "source": [
    "### Обработка пропусков"
   ]
  },
  {
   "cell_type": "code",
   "execution_count": 2,
   "metadata": {},
   "outputs": [
    {
     "data": {
      "text/plain": [
       " 0     14149\n",
       " 1      4818\n",
       " 2      2055\n",
       " 3       330\n",
       " 20       76\n",
       "-1        47\n",
       " 4        41\n",
       " 5         9\n",
       "Name: children, dtype: int64"
      ]
     },
     "execution_count": 2,
     "metadata": {},
     "output_type": "execute_result"
    }
   ],
   "source": [
    "data['children'].value_counts() #уникальные значения для столбца дети."
   ]
  },
  {
   "cell_type": "markdown",
   "metadata": {},
   "source": [
    "Ошибка в данных: -1 и 20 детей."
   ]
  },
  {
   "cell_type": "code",
   "execution_count": 3,
   "metadata": {},
   "outputs": [
    {
     "data": {
      "text/plain": [
       "-986.927316     1\n",
       "-7026.359174    1\n",
       "-4236.274243    1\n",
       "-6620.396473    1\n",
       "-1238.560080    1\n",
       "               ..\n",
       "-2849.351119    1\n",
       "-5619.328204    1\n",
       "-448.829898     1\n",
       "-1687.038672    1\n",
       "-582.538413     1\n",
       "Name: days_employed, Length: 19351, dtype: int64"
      ]
     },
     "execution_count": 3,
     "metadata": {},
     "output_type": "execute_result"
    }
   ],
   "source": [
    "data['days_employed'].value_counts()  #уникальные значения для столбца рабочий стаж."
   ]
  },
  {
   "cell_type": "markdown",
   "metadata": {},
   "source": [
    " Отрицательные значения и float64"
   ]
  },
  {
   "cell_type": "code",
   "execution_count": 4,
   "metadata": {},
   "outputs": [
    {
     "data": {
      "text/plain": [
       "35    617\n",
       "40    609\n",
       "41    607\n",
       "34    603\n",
       "38    598\n",
       "42    597\n",
       "33    581\n",
       "39    573\n",
       "31    560\n",
       "36    555\n",
       "44    547\n",
       "29    545\n",
       "30    540\n",
       "48    538\n",
       "37    537\n",
       "50    514\n",
       "43    513\n",
       "32    510\n",
       "49    508\n",
       "28    503\n",
       "45    497\n",
       "27    493\n",
       "56    487\n",
       "52    484\n",
       "47    480\n",
       "54    479\n",
       "46    475\n",
       "58    461\n",
       "57    460\n",
       "53    459\n",
       "51    448\n",
       "59    444\n",
       "55    443\n",
       "26    408\n",
       "60    377\n",
       "25    357\n",
       "61    355\n",
       "62    352\n",
       "63    269\n",
       "64    265\n",
       "24    264\n",
       "23    254\n",
       "65    194\n",
       "66    183\n",
       "22    183\n",
       "67    167\n",
       "21    111\n",
       "0     101\n",
       "68     99\n",
       "69     85\n",
       "70     65\n",
       "71     58\n",
       "20     51\n",
       "72     33\n",
       "19     14\n",
       "73      8\n",
       "74      6\n",
       "75      1\n",
       "Name: dob_years, dtype: int64"
      ]
     },
     "execution_count": 4,
     "metadata": {},
     "output_type": "execute_result"
    }
   ],
   "source": [
    "data['dob_years'].value_counts()  #уникальные значения для столбца возраст."
   ]
  },
  {
   "cell_type": "markdown",
   "metadata": {},
   "source": [
    "101 нулевых значений."
   ]
  },
  {
   "cell_type": "code",
   "execution_count": 5,
   "metadata": {},
   "outputs": [
    {
     "data": {
      "text/plain": [
       "среднее                13750\n",
       "высшее                  4718\n",
       "СРЕДНЕЕ                  772\n",
       "Среднее                  711\n",
       "неоконченное высшее      668\n",
       "ВЫСШЕЕ                   274\n",
       "Высшее                   268\n",
       "начальное                250\n",
       "Неоконченное высшее       47\n",
       "НЕОКОНЧЕННОЕ ВЫСШЕЕ       29\n",
       "НАЧАЛЬНОЕ                 17\n",
       "Начальное                 15\n",
       "ученая степень             4\n",
       "УЧЕНАЯ СТЕПЕНЬ             1\n",
       "Ученая степень             1\n",
       "Name: education, dtype: int64"
      ]
     },
     "execution_count": 5,
     "metadata": {},
     "output_type": "execute_result"
    }
   ],
   "source": [
    "data['education'].value_counts()  #уникальные значения для столбца образование. "
   ]
  },
  {
   "cell_type": "markdown",
   "metadata": {},
   "source": [
    "Разный регистр= явные дубликаты"
   ]
  },
  {
   "cell_type": "code",
   "execution_count": 6,
   "metadata": {},
   "outputs": [
    {
     "data": {
      "text/plain": [
       "1    15233\n",
       "0     5260\n",
       "2      744\n",
       "3      282\n",
       "4        6\n",
       "Name: education_id, dtype: int64"
      ]
     },
     "execution_count": 6,
     "metadata": {},
     "output_type": "execute_result"
    }
   ],
   "source": [
    "data['education_id'].value_counts()  #уникальные значения для столбца идентификатор образования. Он совпадает с предыдущим."
   ]
  },
  {
   "cell_type": "code",
   "execution_count": 7,
   "metadata": {},
   "outputs": [
    {
     "data": {
      "text/plain": [
       "женат / замужем          12380\n",
       "гражданский брак          4177\n",
       "Не женат / не замужем     2813\n",
       "в разводе                 1195\n",
       "вдовец / вдова             960\n",
       "Name: family_status, dtype: int64"
      ]
     },
     "execution_count": 7,
     "metadata": {},
     "output_type": "execute_result"
    }
   ],
   "source": [
    "data['family_status'].value_counts()  #уникальные значения для столбца семейное положение. Проблем не вижу."
   ]
  },
  {
   "cell_type": "code",
   "execution_count": 8,
   "metadata": {},
   "outputs": [
    {
     "data": {
      "text/plain": [
       "0    12380\n",
       "1     4177\n",
       "4     2813\n",
       "3     1195\n",
       "2      960\n",
       "Name: family_status_id, dtype: int64"
      ]
     },
     "execution_count": 8,
     "metadata": {},
     "output_type": "execute_result"
    }
   ],
   "source": [
    "data['family_status_id'].value_counts()  #уникальные значения для столбца идентификатор семейного положения. совпадает с предыдущим столбцом."
   ]
  },
  {
   "cell_type": "code",
   "execution_count": 9,
   "metadata": {},
   "outputs": [
    {
     "data": {
      "text/plain": [
       "F      14236\n",
       "M       7288\n",
       "XNA        1\n",
       "Name: gender, dtype: int64"
      ]
     },
     "execution_count": 9,
     "metadata": {},
     "output_type": "execute_result"
    }
   ],
   "source": [
    "data['gender'].value_counts()  #уникальные значения для столбца пол."
   ]
  },
  {
   "cell_type": "markdown",
   "metadata": {},
   "source": [
    "Одна строка не заполнена."
   ]
  },
  {
   "cell_type": "code",
   "execution_count": 10,
   "metadata": {},
   "outputs": [
    {
     "data": {
      "text/plain": [
       "сотрудник          11119\n",
       "компаньон           5085\n",
       "пенсионер           3856\n",
       "госслужащий         1459\n",
       "предприниматель        2\n",
       "безработный            2\n",
       "в декрете              1\n",
       "студент                1\n",
       "Name: income_type, dtype: int64"
      ]
     },
     "execution_count": 10,
     "metadata": {},
     "output_type": "execute_result"
    }
   ],
   "source": [
    "data['income_type'].value_counts()#уникальные значения для столбца тип занятости. Всё хорошо."
   ]
  },
  {
   "cell_type": "code",
   "execution_count": 11,
   "metadata": {},
   "outputs": [
    {
     "data": {
      "text/plain": [
       "0    19784\n",
       "1     1741\n",
       "Name: debt, dtype: int64"
      ]
     },
     "execution_count": 11,
     "metadata": {},
     "output_type": "execute_result"
    }
   ],
   "source": [
    "data['debt'].value_counts() #уникальные значения для столбца задолжность. Всё в порядке."
   ]
  },
  {
   "cell_type": "code",
   "execution_count": 12,
   "metadata": {},
   "outputs": [
    {
     "data": {
      "text/plain": [
       "112874.418757    1\n",
       "133912.272223    1\n",
       "182036.676828    1\n",
       "122421.963500    1\n",
       "198271.837248    1\n",
       "                ..\n",
       "133299.194693    1\n",
       "115080.782380    1\n",
       "84896.781597     1\n",
       "153838.839212    1\n",
       "150014.128510    1\n",
       "Name: total_income, Length: 19351, dtype: int64"
      ]
     },
     "execution_count": 12,
     "metadata": {},
     "output_type": "execute_result"
    }
   ],
   "source": [
    "data['total_income'].value_counts() #уникальные значения для столбца ежемесячный заработок. "
   ]
  },
  {
   "cell_type": "markdown",
   "metadata": {},
   "source": [
    "Слишком много знаков после запятой."
   ]
  },
  {
   "cell_type": "code",
   "execution_count": 13,
   "metadata": {},
   "outputs": [
    {
     "data": {
      "text/plain": [
       "свадьба                                   797\n",
       "на проведение свадьбы                     777\n",
       "сыграть свадьбу                           774\n",
       "операции с недвижимостью                  676\n",
       "покупка коммерческой недвижимости         664\n",
       "покупка жилья для сдачи                   653\n",
       "операции с жильем                         653\n",
       "операции с коммерческой недвижимостью     651\n",
       "жилье                                     647\n",
       "покупка жилья                             647\n",
       "покупка жилья для семьи                   641\n",
       "строительство собственной недвижимости    635\n",
       "недвижимость                              634\n",
       "операции со своей недвижимостью           630\n",
       "строительство жилой недвижимости          626\n",
       "покупка недвижимости                      624\n",
       "покупка своего жилья                      620\n",
       "строительство недвижимости                620\n",
       "ремонт жилью                              612\n",
       "покупка жилой недвижимости                607\n",
       "на покупку своего автомобиля              505\n",
       "заняться высшим образованием              496\n",
       "автомобиль                                495\n",
       "сделка с подержанным автомобилем          489\n",
       "свой автомобиль                           480\n",
       "на покупку подержанного автомобиля        479\n",
       "автомобили                                478\n",
       "на покупку автомобиля                     472\n",
       "дополнительное образование                462\n",
       "приобретение автомобиля                   462\n",
       "сделка с автомобилем                      455\n",
       "высшее образование                        453\n",
       "образование                               447\n",
       "получение дополнительного образования     447\n",
       "получение образования                     443\n",
       "профильное образование                    436\n",
       "получение высшего образования             426\n",
       "заняться образованием                     412\n",
       "Name: purpose, dtype: int64"
      ]
     },
     "execution_count": 13,
     "metadata": {},
     "output_type": "execute_result"
    }
   ],
   "source": [
    "data['purpose'].value_counts()  #уникальные значения для столбца цель кредита. "
   ]
  },
  {
   "cell_type": "markdown",
   "metadata": {},
   "source": [
    "Много скрытых повторов."
   ]
  },
  {
   "cell_type": "code",
   "execution_count": 14,
   "metadata": {},
   "outputs": [],
   "source": [
    "data['children']=data['children'].replace(20, 2) #слишком много детей\n",
    "data['children']=data['children'].replace(-1, 1) #слишком мало детей\n",
    "\n",
    "#Заполняем медианами пропуски столбца с доходами в зависимости от типа занятости.\n",
    "data['median_income'] = data.groupby('income_type')['total_income'].transform('median')\n",
    "data['total_income'] = data['total_income'].fillna(data['median_income'])\n",
    "\n",
    "#Заполняем медианами пропуски столбца трудовой стаж в зависимости от типа занятости.\n",
    "data['median_days_employed']=data.groupby('income_type')['days_employed'].transform('median')\n",
    "data['days_employed'] = data['total_income'].fillna(data['median_days_employed'])\n",
    "\n",
    "#Удаляем строку с непонятным гендером\n",
    "data = data[data['gender'] != 'XNA']\n",
    "\n",
    "#Приводим трудовой стаж к целым положительным числам\n",
    "data['days_employed']=data['days_employed'].astype('int')\n",
    "data['days_employed'] = data['days_employed'].abs()\n",
    "#Заменяем нули в стобце возраст на медиану в зависимости от трудового стажа. \n",
    "income_type_gr = data.groupby('income_type')['dob_years'].median()\n",
    "\n",
    "data.loc[(data['income_type'] == 'безработный ') & (data['dob_years'] == 0), 'dob_years'] = 38\n",
    "data.loc[(data['income_type'] == 'в декрете') & (data['dob_years'] == 0), 'dob_years'] = 39\n",
    "data.loc[(data['income_type'] == 'госслужащий') & (data['dob_years'] == 0), 'dob_years'] = 40\n",
    "data.loc[(data['income_type'] == 'компаньон') & (data['dob_years'] == 0), 'dob_years'] = 39\n",
    "data.loc[(data['income_type'] == 'пенсионер') & (data['dob_years'] == 0), 'dob_years'] = 60\n",
    "data.loc[(data['income_type'] == 'предприниматель') & (data['dob_years'] == 0), 'dob_years'] = 42.5\n",
    "data.loc[(data['income_type'] == 'сотрудник') & (data['dob_years'] == 0), 'dob_years'] = 39\n",
    "data.loc[(data['income_type'] == 'студент') & (data['dob_years'] == 0), 'dob_years'] = 22\n",
    "\n",
    "data['dob_years']=data['dob_years'].astype('int')\n",
    "\n",
    "data['total_income']=data['total_income'].astype('int')\n"
   ]
  },
  {
   "cell_type": "markdown",
   "metadata": {},
   "source": [
    "**Вывод**"
   ]
  },
  {
   "cell_type": "markdown",
   "metadata": {},
   "source": [
    "У кого-то 20 и -1 ребенок (человеческий фактор)\n",
    "\n",
    "В столбце гендер одна строка с пропуском. Откинем ее.\n",
    "\n",
    "В столбце возраст 101 нулевых значений. Заполним медианой значениями исходя из типа занятости. (технические пропуски)\n",
    "\n",
    "В столбцах \"days_employed\" и \"total_income\" 2174 пропуска. Заменяем медианой исходя из типа занятости. (технические пропуски)\n",
    "\n",
    "Столбец 'education' приведем к нижнему регистру.\n",
    "\n",
    "В столбце цель кредита, много скрытых повторов."
   ]
  },
  {
   "cell_type": "markdown",
   "metadata": {},
   "source": [
    "### Замена типа данных"
   ]
  },
  {
   "cell_type": "markdown",
   "metadata": {},
   "source": [
    "**Вывод**"
   ]
  },
  {
   "cell_type": "markdown",
   "metadata": {},
   "source": [
    "**Заполнены все пропуски в данных**\n",
    "\n",
    "**Данные приведены к подходящему для обработки виду**"
   ]
  },
  {
   "cell_type": "markdown",
   "metadata": {},
   "source": [
    "### Обработка дубликатов"
   ]
  },
  {
   "cell_type": "code",
   "execution_count": 15,
   "metadata": {},
   "outputs": [
    {
     "data": {
      "text/plain": [
       "54"
      ]
     },
     "execution_count": 15,
     "metadata": {},
     "output_type": "execute_result"
    }
   ],
   "source": [
    "data.duplicated().sum()"
   ]
  },
  {
   "cell_type": "code",
   "execution_count": 16,
   "metadata": {},
   "outputs": [],
   "source": [
    "data=data.drop_duplicates().reset_index(drop=True)"
   ]
  },
  {
   "cell_type": "markdown",
   "metadata": {},
   "source": [
    "**Вывод**"
   ]
  },
  {
   "cell_type": "markdown",
   "metadata": {},
   "source": [
    "Удалили дубликаты и обновили индексацию. "
   ]
  },
  {
   "cell_type": "markdown",
   "metadata": {},
   "source": [
    "### Лемматизация"
   ]
  },
  {
   "cell_type": "code",
   "execution_count": 17,
   "metadata": {},
   "outputs": [
    {
     "data": {
      "text/plain": [
       "array(['покупка   жилье \\n', 'приобретение   автомобиль \\n',\n",
       "       'дополнительный   образование \\n', 'сыграть   свадьба \\n',\n",
       "       'операция   с   жилье \\n', 'образование \\n',\n",
       "       'на   проведение   свадьба \\n', 'покупка   жилье   для   семья \\n',\n",
       "       'покупка   недвижимость \\n',\n",
       "       'покупка   коммерческий   недвижимость \\n',\n",
       "       'покупка   жилой   недвижимость \\n',\n",
       "       'строительство   собственный   недвижимость \\n', 'недвижимость \\n',\n",
       "       'строительство   недвижимость \\n',\n",
       "       'на   покупка   подержать   автомобиль \\n',\n",
       "       'на   покупка   свой   автомобиль \\n',\n",
       "       'операция   с   коммерческий   недвижимость \\n',\n",
       "       'строительство   жилой   недвижимость \\n', 'жилье \\n',\n",
       "       'операция   со   свой   недвижимость \\n', 'автомобиль \\n',\n",
       "       'заниматься   образование \\n',\n",
       "       'сделка   с   подержанный   автомобиль \\n',\n",
       "       'получение   образование \\n', 'свадьба \\n',\n",
       "       'получение   дополнительный   образование \\n',\n",
       "       'покупка   свой   жилье \\n', 'операция   с   недвижимость \\n',\n",
       "       'получение   высокий   образование \\n', 'свой   автомобиль \\n',\n",
       "       'сделка   с   автомобиль \\n', 'профильный   образование \\n',\n",
       "       'высокий   образование \\n', 'покупка   жилье   для   сдача \\n',\n",
       "       'на   покупка   автомобиль \\n', 'ремонт   жилье \\n',\n",
       "       'заниматься   высокий   образование \\n'], dtype=object)"
      ]
     },
     "execution_count": 17,
     "metadata": {},
     "output_type": "execute_result"
    }
   ],
   "source": [
    "#пишем функцию поиска лемм\n",
    "def lemma(lem):\n",
    "    purpose= ' ' .join(m.lemmatize(lem))\n",
    "    return purpose\n",
    "\n",
    "#применяем к столбцу цель\n",
    "data['lem_purpose']=data['purpose'].apply(lemma) \n",
    "\n",
    "#смотрим все варианты\n",
    "data['lem_purpose'].unique()     "
   ]
  },
  {
   "cell_type": "markdown",
   "metadata": {},
   "source": [
    "**Вывод**"
   ]
  },
  {
   "cell_type": "markdown",
   "metadata": {},
   "source": [
    "После леммизации можно выделить 4 основные группы цели кредита:\n",
    "\n",
    "-Недвижимость;\n",
    "\n",
    "-Автомобиль;\n",
    "\n",
    "-Образование; \n",
    "\n",
    "-Свадьба."
   ]
  },
  {
   "cell_type": "markdown",
   "metadata": {},
   "source": [
    "### Категоризация данных"
   ]
  },
  {
   "cell_type": "code",
   "execution_count": 18,
   "metadata": {},
   "outputs": [
    {
     "data": {
      "text/html": [
       "<div>\n",
       "<style scoped>\n",
       "    .dataframe tbody tr th:only-of-type {\n",
       "        vertical-align: middle;\n",
       "    }\n",
       "\n",
       "    .dataframe tbody tr th {\n",
       "        vertical-align: top;\n",
       "    }\n",
       "\n",
       "    .dataframe thead th {\n",
       "        text-align: right;\n",
       "    }\n",
       "</style>\n",
       "<table border=\"1\" class=\"dataframe\">\n",
       "  <thead>\n",
       "    <tr style=\"text-align: right;\">\n",
       "      <th></th>\n",
       "      <th>children</th>\n",
       "      <th>days_employed</th>\n",
       "      <th>dob_years</th>\n",
       "      <th>education</th>\n",
       "      <th>education_id</th>\n",
       "      <th>family_status</th>\n",
       "      <th>family_status_id</th>\n",
       "      <th>gender</th>\n",
       "      <th>income_type</th>\n",
       "      <th>debt</th>\n",
       "      <th>total_income</th>\n",
       "      <th>purpose</th>\n",
       "      <th>median_income</th>\n",
       "      <th>median_days_employed</th>\n",
       "      <th>lem_purpose</th>\n",
       "    </tr>\n",
       "  </thead>\n",
       "  <tbody>\n",
       "    <tr>\n",
       "      <td>0</td>\n",
       "      <td>1</td>\n",
       "      <td>253875</td>\n",
       "      <td>42</td>\n",
       "      <td>высшее</td>\n",
       "      <td>0</td>\n",
       "      <td>женат / замужем</td>\n",
       "      <td>0</td>\n",
       "      <td>F</td>\n",
       "      <td>сотрудник</td>\n",
       "      <td>0</td>\n",
       "      <td>253875</td>\n",
       "      <td>недвижимость</td>\n",
       "      <td>142594.396847</td>\n",
       "      <td>-1574.202821</td>\n",
       "      <td>покупка   жилье \\n</td>\n",
       "    </tr>\n",
       "    <tr>\n",
       "      <td>1</td>\n",
       "      <td>1</td>\n",
       "      <td>112080</td>\n",
       "      <td>36</td>\n",
       "      <td>среднее</td>\n",
       "      <td>1</td>\n",
       "      <td>женат / замужем</td>\n",
       "      <td>0</td>\n",
       "      <td>F</td>\n",
       "      <td>сотрудник</td>\n",
       "      <td>0</td>\n",
       "      <td>112080</td>\n",
       "      <td>автомобиль</td>\n",
       "      <td>142594.396847</td>\n",
       "      <td>-1574.202821</td>\n",
       "      <td>приобретение   автомобиль \\n</td>\n",
       "    </tr>\n",
       "    <tr>\n",
       "      <td>2</td>\n",
       "      <td>0</td>\n",
       "      <td>145885</td>\n",
       "      <td>33</td>\n",
       "      <td>Среднее</td>\n",
       "      <td>1</td>\n",
       "      <td>женат / замужем</td>\n",
       "      <td>0</td>\n",
       "      <td>M</td>\n",
       "      <td>сотрудник</td>\n",
       "      <td>0</td>\n",
       "      <td>145885</td>\n",
       "      <td>недвижимость</td>\n",
       "      <td>142594.396847</td>\n",
       "      <td>-1574.202821</td>\n",
       "      <td>покупка   жилье \\n</td>\n",
       "    </tr>\n",
       "    <tr>\n",
       "      <td>3</td>\n",
       "      <td>3</td>\n",
       "      <td>267628</td>\n",
       "      <td>32</td>\n",
       "      <td>среднее</td>\n",
       "      <td>1</td>\n",
       "      <td>женат / замужем</td>\n",
       "      <td>0</td>\n",
       "      <td>M</td>\n",
       "      <td>сотрудник</td>\n",
       "      <td>0</td>\n",
       "      <td>267628</td>\n",
       "      <td>образование</td>\n",
       "      <td>142594.396847</td>\n",
       "      <td>-1574.202821</td>\n",
       "      <td>дополнительный   образование \\n</td>\n",
       "    </tr>\n",
       "    <tr>\n",
       "      <td>4</td>\n",
       "      <td>0</td>\n",
       "      <td>158616</td>\n",
       "      <td>53</td>\n",
       "      <td>среднее</td>\n",
       "      <td>1</td>\n",
       "      <td>гражданский брак</td>\n",
       "      <td>1</td>\n",
       "      <td>F</td>\n",
       "      <td>пенсионер</td>\n",
       "      <td>0</td>\n",
       "      <td>158616</td>\n",
       "      <td>свадьба</td>\n",
       "      <td>118514.486412</td>\n",
       "      <td>365213.306266</td>\n",
       "      <td>сыграть   свадьба \\n</td>\n",
       "    </tr>\n",
       "    <tr>\n",
       "      <td>...</td>\n",
       "      <td>...</td>\n",
       "      <td>...</td>\n",
       "      <td>...</td>\n",
       "      <td>...</td>\n",
       "      <td>...</td>\n",
       "      <td>...</td>\n",
       "      <td>...</td>\n",
       "      <td>...</td>\n",
       "      <td>...</td>\n",
       "      <td>...</td>\n",
       "      <td>...</td>\n",
       "      <td>...</td>\n",
       "      <td>...</td>\n",
       "      <td>...</td>\n",
       "      <td>...</td>\n",
       "    </tr>\n",
       "    <tr>\n",
       "      <td>21465</td>\n",
       "      <td>1</td>\n",
       "      <td>224791</td>\n",
       "      <td>43</td>\n",
       "      <td>среднее</td>\n",
       "      <td>1</td>\n",
       "      <td>гражданский брак</td>\n",
       "      <td>1</td>\n",
       "      <td>F</td>\n",
       "      <td>компаньон</td>\n",
       "      <td>0</td>\n",
       "      <td>224791</td>\n",
       "      <td>недвижимость</td>\n",
       "      <td>172357.950966</td>\n",
       "      <td>-1547.382223</td>\n",
       "      <td>операция   с   жилье \\n</td>\n",
       "    </tr>\n",
       "    <tr>\n",
       "      <td>21466</td>\n",
       "      <td>0</td>\n",
       "      <td>155999</td>\n",
       "      <td>67</td>\n",
       "      <td>среднее</td>\n",
       "      <td>1</td>\n",
       "      <td>женат / замужем</td>\n",
       "      <td>0</td>\n",
       "      <td>F</td>\n",
       "      <td>пенсионер</td>\n",
       "      <td>0</td>\n",
       "      <td>155999</td>\n",
       "      <td>автомобиль</td>\n",
       "      <td>118514.486412</td>\n",
       "      <td>365213.306266</td>\n",
       "      <td>сделка   с   автомобиль \\n</td>\n",
       "    </tr>\n",
       "    <tr>\n",
       "      <td>21467</td>\n",
       "      <td>1</td>\n",
       "      <td>89672</td>\n",
       "      <td>38</td>\n",
       "      <td>среднее</td>\n",
       "      <td>1</td>\n",
       "      <td>гражданский брак</td>\n",
       "      <td>1</td>\n",
       "      <td>M</td>\n",
       "      <td>сотрудник</td>\n",
       "      <td>1</td>\n",
       "      <td>89672</td>\n",
       "      <td>недвижимость</td>\n",
       "      <td>142594.396847</td>\n",
       "      <td>-1574.202821</td>\n",
       "      <td>недвижимость \\n</td>\n",
       "    </tr>\n",
       "    <tr>\n",
       "      <td>21468</td>\n",
       "      <td>3</td>\n",
       "      <td>244093</td>\n",
       "      <td>38</td>\n",
       "      <td>среднее</td>\n",
       "      <td>1</td>\n",
       "      <td>женат / замужем</td>\n",
       "      <td>0</td>\n",
       "      <td>M</td>\n",
       "      <td>сотрудник</td>\n",
       "      <td>1</td>\n",
       "      <td>244093</td>\n",
       "      <td>автомобиль</td>\n",
       "      <td>142594.396847</td>\n",
       "      <td>-1574.202821</td>\n",
       "      <td>на   покупка   свой   автомобиль \\n</td>\n",
       "    </tr>\n",
       "    <tr>\n",
       "      <td>21469</td>\n",
       "      <td>2</td>\n",
       "      <td>82047</td>\n",
       "      <td>40</td>\n",
       "      <td>среднее</td>\n",
       "      <td>1</td>\n",
       "      <td>женат / замужем</td>\n",
       "      <td>0</td>\n",
       "      <td>F</td>\n",
       "      <td>сотрудник</td>\n",
       "      <td>0</td>\n",
       "      <td>82047</td>\n",
       "      <td>автомобиль</td>\n",
       "      <td>142594.396847</td>\n",
       "      <td>-1574.202821</td>\n",
       "      <td>на   покупка   автомобиль \\n</td>\n",
       "    </tr>\n",
       "  </tbody>\n",
       "</table>\n",
       "<p>21470 rows × 15 columns</p>\n",
       "</div>"
      ],
      "text/plain": [
       "       children  days_employed  dob_years education  education_id  \\\n",
       "0             1         253875         42    высшее             0   \n",
       "1             1         112080         36   среднее             1   \n",
       "2             0         145885         33   Среднее             1   \n",
       "3             3         267628         32   среднее             1   \n",
       "4             0         158616         53   среднее             1   \n",
       "...         ...            ...        ...       ...           ...   \n",
       "21465         1         224791         43   среднее             1   \n",
       "21466         0         155999         67   среднее             1   \n",
       "21467         1          89672         38   среднее             1   \n",
       "21468         3         244093         38   среднее             1   \n",
       "21469         2          82047         40   среднее             1   \n",
       "\n",
       "          family_status  family_status_id gender income_type  debt  \\\n",
       "0       женат / замужем                 0      F   сотрудник     0   \n",
       "1       женат / замужем                 0      F   сотрудник     0   \n",
       "2       женат / замужем                 0      M   сотрудник     0   \n",
       "3       женат / замужем                 0      M   сотрудник     0   \n",
       "4      гражданский брак                 1      F   пенсионер     0   \n",
       "...                 ...               ...    ...         ...   ...   \n",
       "21465  гражданский брак                 1      F   компаньон     0   \n",
       "21466   женат / замужем                 0      F   пенсионер     0   \n",
       "21467  гражданский брак                 1      M   сотрудник     1   \n",
       "21468   женат / замужем                 0      M   сотрудник     1   \n",
       "21469   женат / замужем                 0      F   сотрудник     0   \n",
       "\n",
       "       total_income       purpose  median_income  median_days_employed  \\\n",
       "0            253875  недвижимость  142594.396847          -1574.202821   \n",
       "1            112080    автомобиль  142594.396847          -1574.202821   \n",
       "2            145885  недвижимость  142594.396847          -1574.202821   \n",
       "3            267628   образование  142594.396847          -1574.202821   \n",
       "4            158616       свадьба  118514.486412         365213.306266   \n",
       "...             ...           ...            ...                   ...   \n",
       "21465        224791  недвижимость  172357.950966          -1547.382223   \n",
       "21466        155999    автомобиль  118514.486412         365213.306266   \n",
       "21467         89672  недвижимость  142594.396847          -1574.202821   \n",
       "21468        244093    автомобиль  142594.396847          -1574.202821   \n",
       "21469         82047    автомобиль  142594.396847          -1574.202821   \n",
       "\n",
       "                               lem_purpose  \n",
       "0                       покупка   жилье \\n  \n",
       "1             приобретение   автомобиль \\n  \n",
       "2                       покупка   жилье \\n  \n",
       "3          дополнительный   образование \\n  \n",
       "4                     сыграть   свадьба \\n  \n",
       "...                                    ...  \n",
       "21465              операция   с   жилье \\n  \n",
       "21466           сделка   с   автомобиль \\n  \n",
       "21467                      недвижимость \\n  \n",
       "21468  на   покупка   свой   автомобиль \\n  \n",
       "21469         на   покупка   автомобиль \\n  \n",
       "\n",
       "[21470 rows x 15 columns]"
      ]
     },
     "metadata": {},
     "output_type": "display_data"
    }
   ],
   "source": [
    "#пишем функцию преобразования целей\n",
    "def purpose_word(word):\n",
    "    if 'жилье' in  word:\n",
    "        return 'недвижимость'\n",
    "    if 'недвижимость' in  word:\n",
    "        return 'недвижимость'\n",
    "    if 'автомобиль' in  word:\n",
    "        return 'автомобиль'\n",
    "    if 'свадьба' in  word:\n",
    "        return 'свадьба'\n",
    "    if 'образование' in  word:\n",
    "        return 'образование'\n",
    "\n",
    "#заполняем столбец цели одним словом функцией\n",
    "data['purpose']=data['lem_purpose'].apply(purpose_word)\n",
    "\n",
    "display(data)"
   ]
  },
  {
   "cell_type": "markdown",
   "metadata": {},
   "source": [
    "**Вывод**"
   ]
  },
  {
   "cell_type": "markdown",
   "metadata": {},
   "source": [
    "Данные в датафрейме отчищены от пропусков, дубликатов и сгруппированы.\n",
    "\n",
    "Можно приступать к анализу.\n",
    "\n"
   ]
  },
  {
   "cell_type": "markdown",
   "metadata": {},
   "source": [
    "## Шаг 3. Ответьте на вопросы"
   ]
  },
  {
   "cell_type": "markdown",
   "metadata": {},
   "source": [
    "- Есть ли зависимость между наличием детей и возвратом кредита в срок?"
   ]
  },
  {
   "cell_type": "code",
   "execution_count": 19,
   "metadata": {},
   "outputs": [
    {
     "data": {
      "text/html": [
       "<div>\n",
       "<style scoped>\n",
       "    .dataframe tbody tr th:only-of-type {\n",
       "        vertical-align: middle;\n",
       "    }\n",
       "\n",
       "    .dataframe tbody tr th {\n",
       "        vertical-align: top;\n",
       "    }\n",
       "\n",
       "    .dataframe thead th {\n",
       "        text-align: right;\n",
       "    }\n",
       "</style>\n",
       "<table border=\"1\" class=\"dataframe\">\n",
       "  <thead>\n",
       "    <tr style=\"text-align: right;\">\n",
       "      <th>debt</th>\n",
       "      <th>0</th>\n",
       "      <th>1</th>\n",
       "      <th>share</th>\n",
       "    </tr>\n",
       "    <tr>\n",
       "      <th>children</th>\n",
       "      <th></th>\n",
       "      <th></th>\n",
       "      <th></th>\n",
       "    </tr>\n",
       "  </thead>\n",
       "  <tbody>\n",
       "    <tr>\n",
       "      <td>0</td>\n",
       "      <td>13043.0</td>\n",
       "      <td>1063.0</td>\n",
       "      <td>7.535800</td>\n",
       "    </tr>\n",
       "    <tr>\n",
       "      <td>1</td>\n",
       "      <td>4411.0</td>\n",
       "      <td>445.0</td>\n",
       "      <td>9.163921</td>\n",
       "    </tr>\n",
       "    <tr>\n",
       "      <td>2</td>\n",
       "      <td>1926.0</td>\n",
       "      <td>202.0</td>\n",
       "      <td>9.492481</td>\n",
       "    </tr>\n",
       "    <tr>\n",
       "      <td>3</td>\n",
       "      <td>303.0</td>\n",
       "      <td>27.0</td>\n",
       "      <td>8.181818</td>\n",
       "    </tr>\n",
       "    <tr>\n",
       "      <td>4</td>\n",
       "      <td>37.0</td>\n",
       "      <td>4.0</td>\n",
       "      <td>9.756098</td>\n",
       "    </tr>\n",
       "    <tr>\n",
       "      <td>5</td>\n",
       "      <td>9.0</td>\n",
       "      <td>NaN</td>\n",
       "      <td>NaN</td>\n",
       "    </tr>\n",
       "  </tbody>\n",
       "</table>\n",
       "</div>"
      ],
      "text/plain": [
       "debt            0       1     share\n",
       "children                           \n",
       "0         13043.0  1063.0  7.535800\n",
       "1          4411.0   445.0  9.163921\n",
       "2          1926.0   202.0  9.492481\n",
       "3           303.0    27.0  8.181818\n",
       "4            37.0     4.0  9.756098\n",
       "5             9.0     NaN       NaN"
      ]
     },
     "execution_count": 19,
     "metadata": {},
     "output_type": "execute_result"
    }
   ],
   "source": [
    "data_piv=data.pivot_table(index=['children'], columns='debt', values = 'gender', aggfunc='count')\n",
    "data_piv['share']=(data_piv[1]/(data_piv[1]+data_piv[0]))*100\n",
    "data_piv\n",
    "\n"
   ]
  },
  {
   "cell_type": "markdown",
   "metadata": {},
   "source": [
    "**Вывод**"
   ]
  },
  {
   "cell_type": "markdown",
   "metadata": {},
   "source": [
    "Вероятность задержки платежей по кредиту увеличивается при наличии детей.\n",
    "\n",
    "*В свою очередь, количество детей не влияет на эту величину.*"
   ]
  },
  {
   "cell_type": "markdown",
   "metadata": {},
   "source": [
    "- Есть ли зависимость между семейным положением и возвратом кредита в срок?"
   ]
  },
  {
   "cell_type": "code",
   "execution_count": 20,
   "metadata": {},
   "outputs": [
    {
     "data": {
      "text/html": [
       "<div>\n",
       "<style scoped>\n",
       "    .dataframe tbody tr th:only-of-type {\n",
       "        vertical-align: middle;\n",
       "    }\n",
       "\n",
       "    .dataframe tbody tr th {\n",
       "        vertical-align: top;\n",
       "    }\n",
       "\n",
       "    .dataframe thead th {\n",
       "        text-align: right;\n",
       "    }\n",
       "</style>\n",
       "<table border=\"1\" class=\"dataframe\">\n",
       "  <thead>\n",
       "    <tr style=\"text-align: right;\">\n",
       "      <th>debt</th>\n",
       "      <th>0</th>\n",
       "      <th>1</th>\n",
       "      <th>share</th>\n",
       "    </tr>\n",
       "    <tr>\n",
       "      <th>family_status</th>\n",
       "      <th></th>\n",
       "      <th></th>\n",
       "      <th></th>\n",
       "    </tr>\n",
       "  </thead>\n",
       "  <tbody>\n",
       "    <tr>\n",
       "      <td>Не женат / не замужем</td>\n",
       "      <td>2536</td>\n",
       "      <td>274</td>\n",
       "      <td>9.750890</td>\n",
       "    </tr>\n",
       "    <tr>\n",
       "      <td>в разводе</td>\n",
       "      <td>1110</td>\n",
       "      <td>85</td>\n",
       "      <td>7.112971</td>\n",
       "    </tr>\n",
       "    <tr>\n",
       "      <td>вдовец / вдова</td>\n",
       "      <td>896</td>\n",
       "      <td>63</td>\n",
       "      <td>6.569343</td>\n",
       "    </tr>\n",
       "    <tr>\n",
       "      <td>гражданский брак</td>\n",
       "      <td>3774</td>\n",
       "      <td>388</td>\n",
       "      <td>9.322441</td>\n",
       "    </tr>\n",
       "    <tr>\n",
       "      <td>женат / замужем</td>\n",
       "      <td>11413</td>\n",
       "      <td>931</td>\n",
       "      <td>7.542126</td>\n",
       "    </tr>\n",
       "  </tbody>\n",
       "</table>\n",
       "</div>"
      ],
      "text/plain": [
       "debt                       0    1     share\n",
       "family_status                              \n",
       "Не женат / не замужем   2536  274  9.750890\n",
       "в разводе               1110   85  7.112971\n",
       "вдовец / вдова           896   63  6.569343\n",
       "гражданский брак        3774  388  9.322441\n",
       "женат / замужем        11413  931  7.542126"
      ]
     },
     "execution_count": 20,
     "metadata": {},
     "output_type": "execute_result"
    }
   ],
   "source": [
    "#тоже самое для семейного положения\n",
    "data_piv1 = data.pivot_table(index=['family_status'], columns='debt', values = 'gender', aggfunc='count')\n",
    "data_piv1['share']=(data_piv1[1]/(data_piv1[1]+data_piv1[0]))*100\n",
    "data_piv1"
   ]
  },
  {
   "cell_type": "markdown",
   "metadata": {},
   "source": [
    "**Вывод**"
   ]
  },
  {
   "cell_type": "markdown",
   "metadata": {},
   "source": [
    "По полученным данным можно сделать выдвод, что не женатые и в гражданском браке чаще задерживают выплаты по кредитам."
   ]
  },
  {
   "cell_type": "markdown",
   "metadata": {},
   "source": [
    "- Есть ли зависимость между уровнем дохода и возвратом кредита в срок?"
   ]
  },
  {
   "cell_type": "code",
   "execution_count": 21,
   "metadata": {},
   "outputs": [
    {
     "data": {
      "text/html": [
       "<div>\n",
       "<style scoped>\n",
       "    .dataframe tbody tr th:only-of-type {\n",
       "        vertical-align: middle;\n",
       "    }\n",
       "\n",
       "    .dataframe tbody tr th {\n",
       "        vertical-align: top;\n",
       "    }\n",
       "\n",
       "    .dataframe thead th {\n",
       "        text-align: right;\n",
       "    }\n",
       "</style>\n",
       "<table border=\"1\" class=\"dataframe\">\n",
       "  <thead>\n",
       "    <tr style=\"text-align: right;\">\n",
       "      <th>debt</th>\n",
       "      <th>0</th>\n",
       "      <th>1</th>\n",
       "      <th>share</th>\n",
       "    </tr>\n",
       "    <tr>\n",
       "      <th>income_group</th>\n",
       "      <th></th>\n",
       "      <th></th>\n",
       "      <th></th>\n",
       "    </tr>\n",
       "  </thead>\n",
       "  <tbody>\n",
       "    <tr>\n",
       "      <td>142594. до 195751.75</td>\n",
       "      <td>4796</td>\n",
       "      <td>448</td>\n",
       "      <td>8.543097</td>\n",
       "    </tr>\n",
       "    <tr>\n",
       "      <td>до 107652.25</td>\n",
       "      <td>4941</td>\n",
       "      <td>427</td>\n",
       "      <td>7.954545</td>\n",
       "    </tr>\n",
       "    <tr>\n",
       "      <td>от 107652.25 до 142594</td>\n",
       "      <td>5007</td>\n",
       "      <td>483</td>\n",
       "      <td>8.797814</td>\n",
       "    </tr>\n",
       "    <tr>\n",
       "      <td>от 195751.75</td>\n",
       "      <td>4985</td>\n",
       "      <td>383</td>\n",
       "      <td>7.134873</td>\n",
       "    </tr>\n",
       "  </tbody>\n",
       "</table>\n",
       "</div>"
      ],
      "text/plain": [
       "debt                       0    1     share\n",
       "income_group                               \n",
       "142594. до 195751.75    4796  448  8.543097\n",
       "до 107652.25            4941  427  7.954545\n",
       "от 107652.25 до 142594  5007  483  8.797814\n",
       "от 195751.75            4985  383  7.134873"
      ]
     },
     "execution_count": 21,
     "metadata": {},
     "output_type": "execute_result"
    }
   ],
   "source": [
    "pd.qcut(data['total_income'], 4)\n",
    "\n",
    "#напишем функцию для группировки по уровню дохода\n",
    "def income_group(inc):\n",
    "    \n",
    "    income=inc['total_income']\n",
    "    \n",
    "    if income<=107652.25:\n",
    "        \n",
    "        return 'до 107652.25'\n",
    "    \n",
    "    if (income>107652.25) & (income<=142594):\n",
    "        \n",
    "        return 'от 107652.25 до 142594'\n",
    "    \n",
    "    if income>142594 and income<=195751.75:\n",
    "        \n",
    "        return '142594. до 195751.75'\n",
    "    \n",
    "    if income>195751.75:\n",
    "        \n",
    "        return 'от 195751.75'\n",
    "    \n",
    "#Применяем и записываем в новый столбец\n",
    "data['income_group']=data.apply(income_group,axis=1)\n",
    "\n",
    "#делаем сводную по доходу\n",
    "data_piv2 = data.pivot_table(index=['income_group'], columns='debt', values = 'gender', aggfunc='count')\n",
    "data_piv2['share']=(data_piv2[1]/(data_piv2[1]+data_piv2[0]))*100\n",
    "data_piv2"
   ]
  },
  {
   "cell_type": "markdown",
   "metadata": {},
   "source": [
    "**Вывод**"
   ]
  },
  {
   "cell_type": "markdown",
   "metadata": {},
   "source": [
    "Чаще всего просрочки по кредитам можно ждать от людей с доходом выше среднего."
   ]
  },
  {
   "cell_type": "markdown",
   "metadata": {},
   "source": [
    "- Как разные цели кредита влияют на его возврат в срок?"
   ]
  },
  {
   "cell_type": "code",
   "execution_count": 22,
   "metadata": {},
   "outputs": [
    {
     "data": {
      "text/html": [
       "<div>\n",
       "<style scoped>\n",
       "    .dataframe tbody tr th:only-of-type {\n",
       "        vertical-align: middle;\n",
       "    }\n",
       "\n",
       "    .dataframe tbody tr th {\n",
       "        vertical-align: top;\n",
       "    }\n",
       "\n",
       "    .dataframe thead th {\n",
       "        text-align: right;\n",
       "    }\n",
       "</style>\n",
       "<table border=\"1\" class=\"dataframe\">\n",
       "  <thead>\n",
       "    <tr style=\"text-align: right;\">\n",
       "      <th>debt</th>\n",
       "      <th>0</th>\n",
       "      <th>1</th>\n",
       "      <th>share</th>\n",
       "    </tr>\n",
       "    <tr>\n",
       "      <th>purpose</th>\n",
       "      <th></th>\n",
       "      <th></th>\n",
       "      <th></th>\n",
       "    </tr>\n",
       "  </thead>\n",
       "  <tbody>\n",
       "    <tr>\n",
       "      <td>автомобиль</td>\n",
       "      <td>3905</td>\n",
       "      <td>403</td>\n",
       "      <td>9.354689</td>\n",
       "    </tr>\n",
       "    <tr>\n",
       "      <td>недвижимость</td>\n",
       "      <td>10031</td>\n",
       "      <td>782</td>\n",
       "      <td>7.232036</td>\n",
       "    </tr>\n",
       "    <tr>\n",
       "      <td>образование</td>\n",
       "      <td>3644</td>\n",
       "      <td>370</td>\n",
       "      <td>9.217738</td>\n",
       "    </tr>\n",
       "    <tr>\n",
       "      <td>свадьба</td>\n",
       "      <td>2149</td>\n",
       "      <td>186</td>\n",
       "      <td>7.965739</td>\n",
       "    </tr>\n",
       "  </tbody>\n",
       "</table>\n",
       "</div>"
      ],
      "text/plain": [
       "debt              0    1     share\n",
       "purpose                           \n",
       "автомобиль     3905  403  9.354689\n",
       "недвижимость  10031  782  7.232036\n",
       "образование    3644  370  9.217738\n",
       "свадьба        2149  186  7.965739"
      ]
     },
     "execution_count": 22,
     "metadata": {},
     "output_type": "execute_result"
    }
   ],
   "source": [
    "data_piv3 = data.pivot_table(index=['purpose'], columns='debt', values = 'gender', aggfunc='count')\n",
    "data_piv3['share']=(data_piv3[1]/(data_piv3[1]+data_piv3[0]))*100\n",
    "data_piv3"
   ]
  },
  {
   "cell_type": "markdown",
   "metadata": {},
   "source": [
    "**Вывод**"
   ]
  },
  {
   "cell_type": "markdown",
   "metadata": {},
   "source": [
    "Вероятность задержки возрастает при покупке автомобиля или кредита на образование"
   ]
  },
  {
   "cell_type": "markdown",
   "metadata": {},
   "source": [
    "## Шаг 4. Общий вывод"
   ]
  },
  {
   "cell_type": "markdown",
   "metadata": {},
   "source": [
    "# Проведенное исследование позволило выявить следующие зависимости:\n",
    "\n",
    "1. При наличии у заемщика детей возрастает вероятность задолжностей (9.1% невозврата);\n",
    "2. Холостяки, а так же люди, состоящие в гражданском браке чаще просрачивают платежи по кредитам(9.5% невозврата);\n",
    "3. Люди с ежемесячным достатком от 107652.25 руб до 142594 руб. чаще просрачивают платежи по кредитам(8,6% невозврата);\n",
    "4. Кредиты на покупку автомобиля(9.3% невозврата) и плату за обучение (9.2% невозврата) чаще остаются не выпраченными.\n",
    "\n",
    "Исходя из данных выводов, можно сказать, что наиболее надежным заемщиком является:\n",
    "\n",
    "- Женатый\n",
    "- Без детей.\n",
    "- С доходом до 107652.25 руб., либо с доходом от 195751.75 руб. \n",
    "- С целью кредита: Свадьба или Недвижимость.\n"
   ]
  }
 ],
 "metadata": {
  "ExecuteTimeLog": [
   {
    "duration": 149,
    "start_time": "2022-01-19T08:37:34.047Z"
   },
   {
    "duration": 766,
    "start_time": "2022-01-19T08:37:39.337Z"
   },
   {
    "duration": 793,
    "start_time": "2022-01-20T04:11:40.778Z"
   },
   {
    "duration": 632,
    "start_time": "2022-01-20T04:12:26.690Z"
   },
   {
    "duration": 67,
    "start_time": "2022-01-20T04:14:19.624Z"
   },
   {
    "duration": 25,
    "start_time": "2022-01-20T04:24:19.424Z"
   },
   {
    "duration": 21,
    "start_time": "2022-01-20T04:24:29.890Z"
   },
   {
    "duration": 19,
    "start_time": "2022-01-20T04:24:34.349Z"
   },
   {
    "duration": 7,
    "start_time": "2022-01-20T04:25:11.475Z"
   },
   {
    "duration": 7,
    "start_time": "2022-01-20T04:26:08.658Z"
   },
   {
    "duration": 103,
    "start_time": "2022-01-20T04:34:26.628Z"
   },
   {
    "duration": 5,
    "start_time": "2022-01-20T04:34:30.867Z"
   },
   {
    "duration": 5,
    "start_time": "2022-01-20T04:36:15.587Z"
   },
   {
    "duration": 4,
    "start_time": "2022-01-20T04:38:23.158Z"
   },
   {
    "duration": 4,
    "start_time": "2022-01-20T04:38:32.749Z"
   },
   {
    "duration": 3,
    "start_time": "2022-01-20T04:38:38.684Z"
   },
   {
    "duration": 4,
    "start_time": "2022-01-20T04:38:43.014Z"
   },
   {
    "duration": 4,
    "start_time": "2022-01-20T04:38:48.790Z"
   },
   {
    "duration": 5,
    "start_time": "2022-01-20T04:38:52.590Z"
   },
   {
    "duration": 4,
    "start_time": "2022-01-20T04:42:23.796Z"
   },
   {
    "duration": 3,
    "start_time": "2022-01-20T04:44:11.921Z"
   },
   {
    "duration": 5,
    "start_time": "2022-01-20T04:44:38.274Z"
   },
   {
    "duration": 4,
    "start_time": "2022-01-20T04:44:49.143Z"
   },
   {
    "duration": 11,
    "start_time": "2022-01-20T04:44:52.327Z"
   },
   {
    "duration": 3,
    "start_time": "2022-01-20T04:56:37.585Z"
   },
   {
    "duration": 417,
    "start_time": "2022-01-20T04:59:38.815Z"
   },
   {
    "duration": 5,
    "start_time": "2022-01-20T05:02:14.175Z"
   },
   {
    "duration": 8,
    "start_time": "2022-01-20T05:04:05.850Z"
   },
   {
    "duration": 9,
    "start_time": "2022-01-20T05:04:11.296Z"
   },
   {
    "duration": 9,
    "start_time": "2022-01-20T05:06:46.732Z"
   },
   {
    "duration": 10,
    "start_time": "2022-01-20T05:08:07.961Z"
   },
   {
    "duration": 13,
    "start_time": "2022-01-20T05:12:19.548Z"
   },
   {
    "duration": 312,
    "start_time": "2022-01-20T05:14:00.316Z"
   },
   {
    "duration": 100,
    "start_time": "2022-01-20T05:14:57.310Z"
   },
   {
    "duration": 94,
    "start_time": "2022-01-20T05:17:02.163Z"
   },
   {
    "duration": 91,
    "start_time": "2022-01-20T05:17:08.923Z"
   },
   {
    "duration": 37,
    "start_time": "2022-01-20T05:17:12.445Z"
   },
   {
    "duration": 25,
    "start_time": "2022-01-20T05:17:59.852Z"
   },
   {
    "duration": 26,
    "start_time": "2022-01-20T05:20:30.601Z"
   },
   {
    "duration": 27,
    "start_time": "2022-01-20T05:20:57.699Z"
   },
   {
    "duration": 34,
    "start_time": "2022-01-20T05:21:24.597Z"
   },
   {
    "duration": 25,
    "start_time": "2022-01-20T05:21:39.976Z"
   },
   {
    "duration": 31,
    "start_time": "2022-01-20T05:21:43.842Z"
   },
   {
    "duration": 25,
    "start_time": "2022-01-20T05:21:52.416Z"
   },
   {
    "duration": 12,
    "start_time": "2022-01-20T05:21:57.362Z"
   },
   {
    "duration": 24,
    "start_time": "2022-01-20T05:22:00.245Z"
   },
   {
    "duration": 16,
    "start_time": "2022-01-20T05:22:11.354Z"
   },
   {
    "duration": 24,
    "start_time": "2022-01-20T05:22:16.646Z"
   },
   {
    "duration": 24,
    "start_time": "2022-01-20T05:22:26.987Z"
   },
   {
    "duration": 31,
    "start_time": "2022-01-20T05:22:49.811Z"
   },
   {
    "duration": 1110,
    "start_time": "2022-01-20T05:22:56.239Z"
   },
   {
    "duration": 27,
    "start_time": "2022-01-20T05:23:07.627Z"
   },
   {
    "duration": 63,
    "start_time": "2022-01-20T05:23:16.712Z"
   },
   {
    "duration": 12,
    "start_time": "2022-01-20T05:23:21.393Z"
   },
   {
    "duration": 25,
    "start_time": "2022-01-20T05:23:26.797Z"
   },
   {
    "duration": 50,
    "start_time": "2022-01-20T05:23:37.908Z"
   },
   {
    "duration": 38,
    "start_time": "2022-01-20T05:23:57.318Z"
   },
   {
    "duration": 56,
    "start_time": "2022-01-20T05:25:44.008Z"
   },
   {
    "duration": 37,
    "start_time": "2022-01-20T05:32:11.383Z"
   },
   {
    "duration": 44,
    "start_time": "2022-01-20T05:32:53.405Z"
   },
   {
    "duration": 5,
    "start_time": "2022-01-20T05:37:48.801Z"
   },
   {
    "duration": 5,
    "start_time": "2022-01-20T05:37:58.620Z"
   },
   {
    "duration": 5,
    "start_time": "2022-01-20T05:38:24.830Z"
   },
   {
    "duration": 5,
    "start_time": "2022-01-20T05:46:14.454Z"
   },
   {
    "duration": 5,
    "start_time": "2022-01-20T05:46:22.955Z"
   },
   {
    "duration": 4,
    "start_time": "2022-01-20T05:46:35.998Z"
   },
   {
    "duration": 5,
    "start_time": "2022-01-20T05:46:47.790Z"
   },
   {
    "duration": 7,
    "start_time": "2022-01-20T05:48:17.421Z"
   },
   {
    "duration": 7,
    "start_time": "2022-01-20T05:48:47.588Z"
   },
   {
    "duration": 8,
    "start_time": "2022-01-20T05:49:06.576Z"
   },
   {
    "duration": 7,
    "start_time": "2022-01-20T05:49:16.174Z"
   },
   {
    "duration": 7,
    "start_time": "2022-01-20T05:49:26.533Z"
   },
   {
    "duration": 14,
    "start_time": "2022-01-20T05:50:15.073Z"
   },
   {
    "duration": 33,
    "start_time": "2022-01-20T05:52:55.082Z"
   },
   {
    "duration": 33,
    "start_time": "2022-01-20T05:55:18.033Z"
   },
   {
    "duration": 35,
    "start_time": "2022-01-20T05:59:37.138Z"
   },
   {
    "duration": 36,
    "start_time": "2022-01-20T05:59:44.038Z"
   },
   {
    "duration": 38,
    "start_time": "2022-01-20T06:01:06.057Z"
   },
   {
    "duration": 36,
    "start_time": "2022-01-20T06:01:25.552Z"
   },
   {
    "duration": 30,
    "start_time": "2022-01-20T06:01:38.280Z"
   },
   {
    "duration": 94,
    "start_time": "2022-01-20T06:01:51.933Z"
   },
   {
    "duration": 30,
    "start_time": "2022-01-20T06:02:00.349Z"
   },
   {
    "duration": 442,
    "start_time": "2022-01-20T06:02:20.368Z"
   },
   {
    "duration": 308,
    "start_time": "2022-01-20T06:02:32.556Z"
   },
   {
    "duration": 318,
    "start_time": "2022-01-20T06:03:05.648Z"
   },
   {
    "duration": 31,
    "start_time": "2022-01-20T06:03:30.999Z"
   },
   {
    "duration": 30,
    "start_time": "2022-01-20T06:03:40.236Z"
   },
   {
    "duration": 49,
    "start_time": "2022-01-20T06:07:19.144Z"
   },
   {
    "duration": 41,
    "start_time": "2022-01-20T06:11:53.785Z"
   },
   {
    "duration": 40,
    "start_time": "2022-01-20T06:12:07.669Z"
   },
   {
    "duration": 43,
    "start_time": "2022-01-20T06:19:26.684Z"
   },
   {
    "duration": 39,
    "start_time": "2022-01-20T06:21:35.560Z"
   },
   {
    "duration": 100,
    "start_time": "2022-01-20T06:21:54.151Z"
   },
   {
    "duration": 42,
    "start_time": "2022-01-20T06:22:10.565Z"
   },
   {
    "duration": 66,
    "start_time": "2022-01-20T06:25:26.895Z"
   },
   {
    "duration": 439,
    "start_time": "2022-01-20T06:26:53.232Z"
   },
   {
    "duration": 354,
    "start_time": "2022-01-20T06:26:59.431Z"
   },
   {
    "duration": 64,
    "start_time": "2022-01-20T06:28:11.216Z"
   },
   {
    "duration": 64,
    "start_time": "2022-01-20T06:29:21.232Z"
   },
   {
    "duration": 407,
    "start_time": "2022-01-20T06:33:05.216Z"
   },
   {
    "duration": 71,
    "start_time": "2022-01-20T06:33:50.394Z"
   },
   {
    "duration": 70,
    "start_time": "2022-01-20T06:34:01.625Z"
   },
   {
    "duration": 76,
    "start_time": "2022-01-20T06:39:12.887Z"
   },
   {
    "duration": 82,
    "start_time": "2022-01-20T06:48:11.518Z"
   },
   {
    "duration": 83,
    "start_time": "2022-01-20T06:52:21.013Z"
   },
   {
    "duration": 87,
    "start_time": "2022-01-20T06:53:42.652Z"
   },
   {
    "duration": 129,
    "start_time": "2022-01-20T07:07:44.926Z"
   },
   {
    "duration": 128,
    "start_time": "2022-01-20T07:08:15.539Z"
   },
   {
    "duration": 130,
    "start_time": "2022-01-20T07:08:53.563Z"
   },
   {
    "duration": 128,
    "start_time": "2022-01-20T07:10:18.433Z"
   },
   {
    "duration": 128,
    "start_time": "2022-01-20T07:13:34.671Z"
   },
   {
    "duration": 19,
    "start_time": "2022-01-20T07:13:39.844Z"
   },
   {
    "duration": 22,
    "start_time": "2022-01-20T07:14:38.282Z"
   },
   {
    "duration": 37,
    "start_time": "2022-01-20T07:14:55.146Z"
   },
   {
    "duration": 32,
    "start_time": "2022-01-20T07:16:13.587Z"
   },
   {
    "duration": 40,
    "start_time": "2022-01-20T07:16:28.062Z"
   },
   {
    "duration": 279,
    "start_time": "2022-01-20T08:27:17.034Z"
   },
   {
    "duration": 1692,
    "start_time": "2022-01-20T08:30:29.002Z"
   },
   {
    "duration": 281,
    "start_time": "2022-01-20T08:30:47.194Z"
   },
   {
    "duration": 295,
    "start_time": "2022-01-20T08:31:36.734Z"
   },
   {
    "duration": 3305,
    "start_time": "2022-01-20T08:33:13.678Z"
   },
   {
    "duration": 3386,
    "start_time": "2022-01-20T08:33:32.980Z"
   },
   {
    "duration": 3697,
    "start_time": "2022-01-20T08:33:48.806Z"
   },
   {
    "duration": 4,
    "start_time": "2022-01-20T08:43:47.420Z"
   },
   {
    "duration": 3364,
    "start_time": "2022-01-20T08:44:17.841Z"
   },
   {
    "duration": 1310,
    "start_time": "2022-01-20T08:44:49.426Z"
   },
   {
    "duration": 3119,
    "start_time": "2022-01-20T08:45:16.050Z"
   },
   {
    "duration": 1605,
    "start_time": "2022-01-20T08:46:15.975Z"
   },
   {
    "duration": 1941,
    "start_time": "2022-01-20T08:48:52.527Z"
   },
   {
    "duration": 706,
    "start_time": "2022-01-20T08:49:02.553Z"
   },
   {
    "duration": 170,
    "start_time": "2022-01-20T08:49:03.260Z"
   },
   {
    "duration": 47,
    "start_time": "2022-01-20T08:49:03.433Z"
   },
   {
    "duration": 64,
    "start_time": "2022-01-20T08:49:03.482Z"
   },
   {
    "duration": 3418,
    "start_time": "2022-01-20T08:49:03.548Z"
   },
   {
    "duration": 673,
    "start_time": "2022-01-20T08:49:28.756Z"
   },
   {
    "duration": 123,
    "start_time": "2022-01-20T08:49:29.430Z"
   },
   {
    "duration": 46,
    "start_time": "2022-01-20T08:49:29.554Z"
   },
   {
    "duration": 57,
    "start_time": "2022-01-20T08:49:29.602Z"
   },
   {
    "duration": 3439,
    "start_time": "2022-01-20T08:49:29.660Z"
   },
   {
    "duration": 2042,
    "start_time": "2022-01-20T08:50:17.016Z"
   },
   {
    "duration": 25,
    "start_time": "2022-01-20T08:51:48.680Z"
   },
   {
    "duration": 331,
    "start_time": "2022-01-20T08:54:13.339Z"
   },
   {
    "duration": 550,
    "start_time": "2022-01-20T08:58:56.280Z"
   },
   {
    "duration": 28,
    "start_time": "2022-01-20T08:59:16.736Z"
   },
   {
    "duration": 300,
    "start_time": "2022-01-20T09:04:04.707Z"
   },
   {
    "duration": 3,
    "start_time": "2022-01-20T09:04:26.488Z"
   },
   {
    "duration": 2,
    "start_time": "2022-01-20T09:04:30.228Z"
   },
   {
    "duration": 5,
    "start_time": "2022-01-20T09:04:38.346Z"
   },
   {
    "duration": 5,
    "start_time": "2022-01-20T09:04:57.185Z"
   },
   {
    "duration": 98,
    "start_time": "2022-01-20T09:05:25.592Z"
   },
   {
    "duration": 284,
    "start_time": "2022-01-20T09:05:31.675Z"
   },
   {
    "duration": 393,
    "start_time": "2022-01-20T09:07:01.363Z"
   },
   {
    "duration": 309,
    "start_time": "2022-01-20T09:07:09.060Z"
   },
   {
    "duration": 9,
    "start_time": "2022-01-20T09:07:18.145Z"
   },
   {
    "duration": 8,
    "start_time": "2022-01-20T09:07:59.675Z"
   },
   {
    "duration": 97,
    "start_time": "2022-01-20T09:08:17.211Z"
   },
   {
    "duration": 10,
    "start_time": "2022-01-20T09:08:21.381Z"
   },
   {
    "duration": 9,
    "start_time": "2022-01-20T09:08:38.838Z"
   },
   {
    "duration": 668,
    "start_time": "2022-01-20T09:08:43.493Z"
   },
   {
    "duration": 130,
    "start_time": "2022-01-20T09:08:44.163Z"
   },
   {
    "duration": 55,
    "start_time": "2022-01-20T09:08:44.295Z"
   },
   {
    "duration": 45,
    "start_time": "2022-01-20T09:08:44.351Z"
   },
   {
    "duration": 3438,
    "start_time": "2022-01-20T09:08:44.397Z"
   },
   {
    "duration": 26,
    "start_time": "2022-01-20T09:08:47.836Z"
   },
   {
    "duration": 8,
    "start_time": "2022-01-20T09:08:47.893Z"
   },
   {
    "duration": 6,
    "start_time": "2022-01-20T09:08:58.469Z"
   },
   {
    "duration": 7,
    "start_time": "2022-01-20T09:10:08.599Z"
   },
   {
    "duration": 13,
    "start_time": "2022-01-20T09:10:49.558Z"
   },
   {
    "duration": 8,
    "start_time": "2022-01-20T09:12:42.556Z"
   },
   {
    "duration": 10,
    "start_time": "2022-01-20T09:12:47.658Z"
   },
   {
    "duration": 9,
    "start_time": "2022-01-20T09:13:03.568Z"
   },
   {
    "duration": 16,
    "start_time": "2022-01-20T09:16:03.333Z"
   },
   {
    "duration": 7,
    "start_time": "2022-01-20T09:16:13.245Z"
   },
   {
    "duration": 365,
    "start_time": "2022-01-20T09:16:42.069Z"
   },
   {
    "duration": 278,
    "start_time": "2022-01-20T09:16:47.752Z"
   },
   {
    "duration": 8,
    "start_time": "2022-01-20T09:16:58.792Z"
   },
   {
    "duration": 24,
    "start_time": "2022-01-20T09:17:12.090Z"
   },
   {
    "duration": 5,
    "start_time": "2022-01-20T09:18:43.200Z"
   },
   {
    "duration": 7,
    "start_time": "2022-01-20T09:19:05.766Z"
   },
   {
    "duration": 8,
    "start_time": "2022-01-20T09:19:13.552Z"
   },
   {
    "duration": 284,
    "start_time": "2022-01-20T09:19:50.617Z"
   },
   {
    "duration": 55,
    "start_time": "2022-01-20T09:19:55.573Z"
   },
   {
    "duration": 7,
    "start_time": "2022-01-20T09:20:06.939Z"
   },
   {
    "duration": 293,
    "start_time": "2022-01-20T09:25:04.412Z"
   },
   {
    "duration": 294,
    "start_time": "2022-01-20T09:25:14.808Z"
   },
   {
    "duration": 107,
    "start_time": "2022-01-20T09:26:51.836Z"
   },
   {
    "duration": 286,
    "start_time": "2022-01-20T09:26:58.279Z"
   },
   {
    "duration": 20,
    "start_time": "2022-01-20T09:28:47.669Z"
   },
   {
    "duration": 641,
    "start_time": "2022-01-20T09:28:53.543Z"
   },
   {
    "duration": 131,
    "start_time": "2022-01-20T09:28:54.186Z"
   },
   {
    "duration": 43,
    "start_time": "2022-01-20T09:28:54.319Z"
   },
   {
    "duration": 40,
    "start_time": "2022-01-20T09:28:54.364Z"
   },
   {
    "duration": 3504,
    "start_time": "2022-01-20T09:28:54.406Z"
   },
   {
    "duration": 41,
    "start_time": "2022-01-20T09:28:57.912Z"
   },
   {
    "duration": 382,
    "start_time": "2022-01-20T09:28:57.955Z"
   },
   {
    "duration": 261,
    "start_time": "2022-01-20T09:47:59.307Z"
   },
   {
    "duration": 25,
    "start_time": "2022-01-20T09:48:04.937Z"
   },
   {
    "duration": 17,
    "start_time": "2022-01-20T10:01:19.019Z"
   },
   {
    "duration": 33,
    "start_time": "2022-01-20T10:05:01.177Z"
   },
   {
    "duration": 35,
    "start_time": "2022-01-20T10:07:12.642Z"
   },
   {
    "duration": 761,
    "start_time": "2022-01-20T10:08:56.334Z"
   },
   {
    "duration": 6400,
    "start_time": "2022-01-20T10:09:03.931Z"
   },
   {
    "duration": 28,
    "start_time": "2022-01-20T10:09:25.277Z"
   },
   {
    "duration": 30,
    "start_time": "2022-01-20T10:10:04.208Z"
   },
   {
    "duration": 143,
    "start_time": "2022-01-20T10:10:45.828Z"
   },
   {
    "duration": 35,
    "start_time": "2022-01-20T10:10:51.026Z"
   },
   {
    "duration": 33,
    "start_time": "2022-01-20T10:12:20.923Z"
   },
   {
    "duration": 36,
    "start_time": "2022-01-20T10:16:12.266Z"
   },
   {
    "duration": 19,
    "start_time": "2022-01-20T10:19:15.253Z"
   },
   {
    "duration": 19,
    "start_time": "2022-01-20T10:19:20.655Z"
   },
   {
    "duration": 17,
    "start_time": "2022-01-20T10:19:24.291Z"
   },
   {
    "duration": 733,
    "start_time": "2022-01-20T10:21:50.181Z"
   },
   {
    "duration": 92,
    "start_time": "2022-01-20T10:21:57.254Z"
   },
   {
    "duration": 8023,
    "start_time": "2022-01-20T10:22:02.096Z"
   },
   {
    "duration": 7078,
    "start_time": "2022-01-20T10:22:21.614Z"
   },
   {
    "duration": 39,
    "start_time": "2022-01-20T10:25:22.620Z"
   },
   {
    "duration": 40,
    "start_time": "2022-01-20T10:28:11.113Z"
   },
   {
    "duration": 35,
    "start_time": "2022-01-20T10:28:18.831Z"
   },
   {
    "duration": 37,
    "start_time": "2022-01-20T10:28:32.077Z"
   },
   {
    "duration": 328,
    "start_time": "2022-01-20T10:28:40.133Z"
   },
   {
    "duration": 38,
    "start_time": "2022-01-20T10:28:52.828Z"
   },
   {
    "duration": 38,
    "start_time": "2022-01-20T10:29:04.420Z"
   },
   {
    "duration": 38,
    "start_time": "2022-01-20T10:29:19.525Z"
   },
   {
    "duration": 37,
    "start_time": "2022-01-20T10:29:26.423Z"
   },
   {
    "duration": 37,
    "start_time": "2022-01-20T10:29:36.664Z"
   },
   {
    "duration": 36,
    "start_time": "2022-01-20T10:29:47.070Z"
   },
   {
    "duration": 315,
    "start_time": "2022-01-20T10:30:31.690Z"
   },
   {
    "duration": 305,
    "start_time": "2022-01-20T10:30:53.048Z"
   },
   {
    "duration": 40,
    "start_time": "2022-01-20T10:31:09.034Z"
   },
   {
    "duration": 36,
    "start_time": "2022-01-20T10:31:24.378Z"
   },
   {
    "duration": 38,
    "start_time": "2022-01-20T10:32:01.702Z"
   },
   {
    "duration": 38,
    "start_time": "2022-01-20T10:39:00.759Z"
   },
   {
    "duration": 7075,
    "start_time": "2022-01-20T10:41:53.300Z"
   },
   {
    "duration": 5382,
    "start_time": "2022-01-20T10:42:54.823Z"
   },
   {
    "duration": 126,
    "start_time": "2022-01-20T10:44:28.700Z"
   },
   {
    "duration": 5232,
    "start_time": "2022-01-20T10:44:45.566Z"
   },
   {
    "duration": 5697,
    "start_time": "2022-01-20T10:45:37.496Z"
   },
   {
    "duration": 309,
    "start_time": "2022-01-20T10:46:05.520Z"
   },
   {
    "duration": 313,
    "start_time": "2022-01-20T10:46:25.141Z"
   },
   {
    "duration": 288,
    "start_time": "2022-01-20T10:46:34.539Z"
   },
   {
    "duration": 314,
    "start_time": "2022-01-20T10:46:48.294Z"
   },
   {
    "duration": 5444,
    "start_time": "2022-01-20T10:47:09.982Z"
   },
   {
    "duration": 104,
    "start_time": "2022-01-20T10:47:35.018Z"
   },
   {
    "duration": 5337,
    "start_time": "2022-01-20T10:48:07.135Z"
   },
   {
    "duration": 8083,
    "start_time": "2022-01-20T10:49:18.443Z"
   },
   {
    "duration": 7902,
    "start_time": "2022-01-20T10:49:57.689Z"
   },
   {
    "duration": 22,
    "start_time": "2022-01-20T10:50:36.962Z"
   },
   {
    "duration": 7827,
    "start_time": "2022-01-20T10:56:17.049Z"
   },
   {
    "duration": 103,
    "start_time": "2022-01-20T10:56:47.227Z"
   },
   {
    "duration": 4,
    "start_time": "2022-01-20T10:56:56.650Z"
   },
   {
    "duration": 4,
    "start_time": "2022-01-20T10:57:37.140Z"
   },
   {
    "duration": 1247,
    "start_time": "2022-01-20T11:07:39.788Z"
   },
   {
    "duration": 509,
    "start_time": "2022-01-20T11:09:09.874Z"
   },
   {
    "duration": 457,
    "start_time": "2022-01-20T11:09:42.553Z"
   },
   {
    "duration": 538,
    "start_time": "2022-01-20T11:11:29.543Z"
   },
   {
    "duration": 805,
    "start_time": "2022-01-20T11:12:19.548Z"
   },
   {
    "duration": 5,
    "start_time": "2022-01-20T11:13:10.884Z"
   },
   {
    "duration": 1305,
    "start_time": "2022-01-20T11:14:11.205Z"
   },
   {
    "duration": 687,
    "start_time": "2022-01-20T11:14:45.597Z"
   },
   {
    "duration": 122,
    "start_time": "2022-01-20T11:14:46.286Z"
   },
   {
    "duration": 37,
    "start_time": "2022-01-20T11:14:46.409Z"
   },
   {
    "duration": 39,
    "start_time": "2022-01-20T11:14:46.448Z"
   },
   {
    "duration": 3572,
    "start_time": "2022-01-20T11:14:46.489Z"
   },
   {
    "duration": 45,
    "start_time": "2022-01-20T11:14:50.064Z"
   },
   {
    "duration": 88,
    "start_time": "2022-01-20T11:14:50.115Z"
   },
   {
    "duration": 60,
    "start_time": "2022-01-20T11:14:50.206Z"
   },
   {
    "duration": 1355,
    "start_time": "2022-01-20T11:14:50.268Z"
   },
   {
    "duration": 17,
    "start_time": "2022-01-20T11:15:28.696Z"
   },
   {
    "duration": 663,
    "start_time": "2022-01-20T11:15:35.937Z"
   },
   {
    "duration": 119,
    "start_time": "2022-01-20T11:15:36.602Z"
   },
   {
    "duration": 36,
    "start_time": "2022-01-20T11:15:36.722Z"
   },
   {
    "duration": 39,
    "start_time": "2022-01-20T11:15:36.760Z"
   },
   {
    "duration": 3361,
    "start_time": "2022-01-20T11:15:36.801Z"
   },
   {
    "duration": 27,
    "start_time": "2022-01-20T11:15:40.164Z"
   },
   {
    "duration": 72,
    "start_time": "2022-01-20T11:15:40.193Z"
   },
   {
    "duration": 21,
    "start_time": "2022-01-20T11:15:40.267Z"
   },
   {
    "duration": 1355,
    "start_time": "2022-01-20T11:15:40.289Z"
   },
   {
    "duration": 277,
    "start_time": "2022-01-20T11:16:27.459Z"
   },
   {
    "duration": 243,
    "start_time": "2022-01-20T11:16:41.035Z"
   },
   {
    "duration": 217,
    "start_time": "2022-01-20T11:16:47.939Z"
   },
   {
    "duration": 94,
    "start_time": "2022-01-20T11:18:31.263Z"
   },
   {
    "duration": 88,
    "start_time": "2022-01-20T11:18:39.338Z"
   },
   {
    "duration": 1434,
    "start_time": "2022-01-20T11:18:48.930Z"
   },
   {
    "duration": 1415,
    "start_time": "2022-01-20T11:21:38.304Z"
   },
   {
    "duration": 490,
    "start_time": "2022-01-20T11:22:19.611Z"
   },
   {
    "duration": 211,
    "start_time": "2022-01-20T11:22:47.329Z"
   },
   {
    "duration": 327,
    "start_time": "2022-01-20T11:23:00.000Z"
   },
   {
    "duration": 230,
    "start_time": "2022-01-20T11:24:09.341Z"
   },
   {
    "duration": 7536,
    "start_time": "2022-01-20T11:27:02.921Z"
   },
   {
    "duration": 222,
    "start_time": "2022-01-20T11:30:58.753Z"
   },
   {
    "duration": 7075,
    "start_time": "2022-01-20T11:34:05.258Z"
   },
   {
    "duration": 21,
    "start_time": "2022-01-20T11:36:51.642Z"
   },
   {
    "duration": 21,
    "start_time": "2022-01-20T11:37:19.328Z"
   },
   {
    "duration": 263,
    "start_time": "2022-01-20T11:39:57.619Z"
   },
   {
    "duration": 294,
    "start_time": "2022-01-20T11:40:30.574Z"
   },
   {
    "duration": 7055,
    "start_time": "2022-01-20T11:41:00.612Z"
   },
   {
    "duration": 663,
    "start_time": "2022-01-24T17:43:18.373Z"
   },
   {
    "duration": 130,
    "start_time": "2022-01-24T17:43:19.038Z"
   },
   {
    "duration": 39,
    "start_time": "2022-01-24T17:43:19.170Z"
   },
   {
    "duration": 60,
    "start_time": "2022-01-24T17:43:19.210Z"
   },
   {
    "duration": 3738,
    "start_time": "2022-01-24T17:43:19.272Z"
   },
   {
    "duration": 30,
    "start_time": "2022-01-24T17:43:23.011Z"
   },
   {
    "duration": 75,
    "start_time": "2022-01-24T17:43:23.043Z"
   },
   {
    "duration": 22,
    "start_time": "2022-01-24T17:43:23.122Z"
   },
   {
    "duration": 316,
    "start_time": "2022-01-24T17:43:23.145Z"
   },
   {
    "duration": 23,
    "start_time": "2022-01-24T17:43:23.463Z"
   },
   {
    "duration": 645,
    "start_time": "2022-01-24T18:55:53.271Z"
   },
   {
    "duration": 131,
    "start_time": "2022-01-24T18:55:53.918Z"
   },
   {
    "duration": 44,
    "start_time": "2022-01-24T18:55:54.051Z"
   },
   {
    "duration": 9,
    "start_time": "2022-01-24T18:55:54.096Z"
   },
   {
    "duration": 65,
    "start_time": "2022-01-24T18:55:54.107Z"
   },
   {
    "duration": 3527,
    "start_time": "2022-01-24T18:55:54.174Z"
   },
   {
    "duration": 26,
    "start_time": "2022-01-24T18:55:57.702Z"
   },
   {
    "duration": 64,
    "start_time": "2022-01-24T18:55:57.730Z"
   },
   {
    "duration": 21,
    "start_time": "2022-01-24T18:55:57.796Z"
   },
   {
    "duration": 277,
    "start_time": "2022-01-24T18:55:57.819Z"
   },
   {
    "duration": 20,
    "start_time": "2022-01-24T18:55:58.098Z"
   },
   {
    "duration": 9,
    "start_time": "2022-01-24T18:56:14.965Z"
   },
   {
    "duration": 94,
    "start_time": "2022-01-24T18:59:32.307Z"
   },
   {
    "duration": 84,
    "start_time": "2022-01-24T19:00:51.086Z"
   },
   {
    "duration": 4,
    "start_time": "2022-01-24T19:25:57.663Z"
   },
   {
    "duration": 646,
    "start_time": "2022-01-24T19:46:38.661Z"
   },
   {
    "duration": 120,
    "start_time": "2022-01-24T19:46:39.309Z"
   },
   {
    "duration": 47,
    "start_time": "2022-01-24T19:46:39.430Z"
   },
   {
    "duration": 55,
    "start_time": "2022-01-24T19:46:39.479Z"
   },
   {
    "duration": 3576,
    "start_time": "2022-01-24T19:46:39.536Z"
   },
   {
    "duration": 28,
    "start_time": "2022-01-24T19:46:43.114Z"
   },
   {
    "duration": 73,
    "start_time": "2022-01-24T19:46:43.143Z"
   },
   {
    "duration": 22,
    "start_time": "2022-01-24T19:46:43.219Z"
   },
   {
    "duration": 289,
    "start_time": "2022-01-24T19:46:43.243Z"
   },
   {
    "duration": 31,
    "start_time": "2022-01-24T19:46:43.534Z"
   },
   {
    "duration": 688,
    "start_time": "2022-01-25T04:59:33.983Z"
   },
   {
    "duration": 63,
    "start_time": "2022-01-25T05:02:01.193Z"
   },
   {
    "duration": 70,
    "start_time": "2022-01-25T05:03:57.465Z"
   },
   {
    "duration": 34,
    "start_time": "2022-01-25T05:08:50.678Z"
   },
   {
    "duration": 5,
    "start_time": "2022-01-25T05:09:05.349Z"
   },
   {
    "duration": 5,
    "start_time": "2022-01-25T05:09:08.896Z"
   },
   {
    "duration": 13,
    "start_time": "2022-01-25T05:09:11.329Z"
   },
   {
    "duration": 7,
    "start_time": "2022-01-25T05:09:13.801Z"
   },
   {
    "duration": 5,
    "start_time": "2022-01-25T05:09:49.801Z"
   },
   {
    "duration": 6,
    "start_time": "2022-01-25T05:09:56.802Z"
   },
   {
    "duration": 70,
    "start_time": "2022-01-25T05:10:13.864Z"
   },
   {
    "duration": 34,
    "start_time": "2022-01-25T05:10:24.510Z"
   },
   {
    "duration": 247,
    "start_time": "2022-01-25T05:12:05.341Z"
   },
   {
    "duration": 8,
    "start_time": "2022-01-25T05:12:35.911Z"
   },
   {
    "duration": 19,
    "start_time": "2022-01-25T05:12:49.100Z"
   },
   {
    "duration": 21,
    "start_time": "2022-01-25T05:14:31.677Z"
   },
   {
    "duration": 6,
    "start_time": "2022-01-25T05:14:42.014Z"
   },
   {
    "duration": 5,
    "start_time": "2022-01-25T05:14:46.404Z"
   },
   {
    "duration": 23,
    "start_time": "2022-01-25T05:14:54.872Z"
   },
   {
    "duration": 19,
    "start_time": "2022-01-25T05:15:43.295Z"
   },
   {
    "duration": 7,
    "start_time": "2022-01-25T05:19:15.759Z"
   },
   {
    "duration": 701,
    "start_time": "2022-01-25T05:19:30.300Z"
   },
   {
    "duration": 7,
    "start_time": "2022-01-25T05:19:31.004Z"
   },
   {
    "duration": 17,
    "start_time": "2022-01-25T05:19:31.014Z"
   },
   {
    "duration": 15,
    "start_time": "2022-01-25T05:19:31.034Z"
   },
   {
    "duration": 11,
    "start_time": "2022-01-25T05:19:31.051Z"
   },
   {
    "duration": 38,
    "start_time": "2022-01-25T05:19:31.064Z"
   },
   {
    "duration": 13,
    "start_time": "2022-01-25T05:19:31.104Z"
   },
   {
    "duration": 12,
    "start_time": "2022-01-25T05:19:31.120Z"
   },
   {
    "duration": 17,
    "start_time": "2022-01-25T05:19:31.134Z"
   },
   {
    "duration": 18,
    "start_time": "2022-01-25T05:19:31.153Z"
   },
   {
    "duration": 10,
    "start_time": "2022-01-25T05:19:31.173Z"
   },
   {
    "duration": 23,
    "start_time": "2022-01-25T05:19:31.185Z"
   },
   {
    "duration": 17,
    "start_time": "2022-01-25T05:19:31.210Z"
   },
   {
    "duration": 29,
    "start_time": "2022-01-25T05:19:31.229Z"
   },
   {
    "duration": 71,
    "start_time": "2022-01-25T05:19:31.260Z"
   },
   {
    "duration": 314,
    "start_time": "2022-01-25T05:19:31.333Z"
   },
   {
    "duration": 168,
    "start_time": "2022-01-25T05:19:31.481Z"
   },
   {
    "duration": 164,
    "start_time": "2022-01-25T05:19:31.486Z"
   },
   {
    "duration": 160,
    "start_time": "2022-01-25T05:19:31.491Z"
   },
   {
    "duration": 158,
    "start_time": "2022-01-25T05:19:31.494Z"
   },
   {
    "duration": 156,
    "start_time": "2022-01-25T05:19:31.497Z"
   },
   {
    "duration": 154,
    "start_time": "2022-01-25T05:19:31.501Z"
   },
   {
    "duration": 152,
    "start_time": "2022-01-25T05:19:31.504Z"
   },
   {
    "duration": 5,
    "start_time": "2022-01-25T05:28:05.915Z"
   },
   {
    "duration": 6,
    "start_time": "2022-01-25T05:28:14.339Z"
   },
   {
    "duration": 202,
    "start_time": "2022-01-25T05:28:41.050Z"
   },
   {
    "duration": 11,
    "start_time": "2022-01-25T05:28:54.893Z"
   },
   {
    "duration": 205,
    "start_time": "2022-01-25T05:32:14.416Z"
   },
   {
    "duration": 211,
    "start_time": "2022-01-25T05:34:41.106Z"
   },
   {
    "duration": 708,
    "start_time": "2022-01-25T05:35:00.328Z"
   },
   {
    "duration": 7,
    "start_time": "2022-01-25T05:35:01.038Z"
   },
   {
    "duration": 26,
    "start_time": "2022-01-25T05:35:01.047Z"
   },
   {
    "duration": 20,
    "start_time": "2022-01-25T05:35:01.076Z"
   },
   {
    "duration": 20,
    "start_time": "2022-01-25T05:35:01.098Z"
   },
   {
    "duration": 17,
    "start_time": "2022-01-25T05:35:01.120Z"
   },
   {
    "duration": 13,
    "start_time": "2022-01-25T05:35:01.139Z"
   },
   {
    "duration": 21,
    "start_time": "2022-01-25T05:35:01.155Z"
   },
   {
    "duration": 11,
    "start_time": "2022-01-25T05:35:01.179Z"
   },
   {
    "duration": 26,
    "start_time": "2022-01-25T05:35:01.193Z"
   },
   {
    "duration": 21,
    "start_time": "2022-01-25T05:35:01.221Z"
   },
   {
    "duration": 26,
    "start_time": "2022-01-25T05:35:01.244Z"
   },
   {
    "duration": 23,
    "start_time": "2022-01-25T05:35:01.272Z"
   },
   {
    "duration": 25,
    "start_time": "2022-01-25T05:35:01.297Z"
   },
   {
    "duration": 300,
    "start_time": "2022-01-25T05:35:01.325Z"
   },
   {
    "duration": 186,
    "start_time": "2022-01-25T05:35:01.442Z"
   },
   {
    "duration": 185,
    "start_time": "2022-01-25T05:35:01.445Z"
   },
   {
    "duration": 183,
    "start_time": "2022-01-25T05:35:01.449Z"
   },
   {
    "duration": 181,
    "start_time": "2022-01-25T05:35:01.453Z"
   },
   {
    "duration": 179,
    "start_time": "2022-01-25T05:35:01.457Z"
   },
   {
    "duration": 176,
    "start_time": "2022-01-25T05:35:01.461Z"
   },
   {
    "duration": 175,
    "start_time": "2022-01-25T05:35:01.464Z"
   },
   {
    "duration": 173,
    "start_time": "2022-01-25T05:35:01.468Z"
   },
   {
    "duration": 171,
    "start_time": "2022-01-25T05:35:01.472Z"
   },
   {
    "duration": 9,
    "start_time": "2022-01-25T05:38:15.240Z"
   },
   {
    "duration": 10,
    "start_time": "2022-01-25T05:38:31.966Z"
   },
   {
    "duration": 201,
    "start_time": "2022-01-25T05:39:39.751Z"
   },
   {
    "duration": 227,
    "start_time": "2022-01-25T05:41:35.349Z"
   },
   {
    "duration": 10,
    "start_time": "2022-01-25T05:41:50.997Z"
   },
   {
    "duration": 203,
    "start_time": "2022-01-25T05:42:04.428Z"
   },
   {
    "duration": 10,
    "start_time": "2022-01-25T05:42:23.613Z"
   },
   {
    "duration": 12,
    "start_time": "2022-01-25T05:43:03.481Z"
   },
   {
    "duration": 10,
    "start_time": "2022-01-25T05:43:15.618Z"
   },
   {
    "duration": 21,
    "start_time": "2022-01-25T05:47:28.980Z"
   },
   {
    "duration": 23,
    "start_time": "2022-01-25T05:51:00.921Z"
   },
   {
    "duration": 15,
    "start_time": "2022-01-25T05:51:46.739Z"
   },
   {
    "duration": 14,
    "start_time": "2022-01-25T05:52:20.213Z"
   },
   {
    "duration": 15,
    "start_time": "2022-01-25T05:52:44.672Z"
   },
   {
    "duration": 14,
    "start_time": "2022-01-25T06:18:24.754Z"
   },
   {
    "duration": 19,
    "start_time": "2022-01-25T06:21:44.591Z"
   },
   {
    "duration": 2114,
    "start_time": "2022-01-25T06:25:43.945Z"
   },
   {
    "duration": 2060,
    "start_time": "2022-01-25T06:25:54.357Z"
   },
   {
    "duration": 243,
    "start_time": "2022-01-25T06:27:55.696Z"
   },
   {
    "duration": 2157,
    "start_time": "2022-01-25T07:34:39.663Z"
   },
   {
    "duration": 25,
    "start_time": "2022-01-25T07:35:07.415Z"
   },
   {
    "duration": 37,
    "start_time": "2022-01-25T07:35:28.314Z"
   },
   {
    "duration": 12,
    "start_time": "2022-01-25T07:35:33.315Z"
   },
   {
    "duration": 12,
    "start_time": "2022-01-25T07:35:35.821Z"
   },
   {
    "duration": 948,
    "start_time": "2022-01-25T07:35:44.141Z"
   },
   {
    "duration": 17,
    "start_time": "2022-01-25T07:35:45.092Z"
   },
   {
    "duration": 11,
    "start_time": "2022-01-25T07:35:45.112Z"
   },
   {
    "duration": 9,
    "start_time": "2022-01-25T07:35:45.126Z"
   },
   {
    "duration": 16,
    "start_time": "2022-01-25T07:35:45.137Z"
   },
   {
    "duration": 13,
    "start_time": "2022-01-25T07:35:45.156Z"
   },
   {
    "duration": 45,
    "start_time": "2022-01-25T07:35:45.172Z"
   },
   {
    "duration": 10,
    "start_time": "2022-01-25T07:35:45.221Z"
   },
   {
    "duration": 14,
    "start_time": "2022-01-25T07:35:45.234Z"
   },
   {
    "duration": 16,
    "start_time": "2022-01-25T07:35:45.251Z"
   },
   {
    "duration": 11,
    "start_time": "2022-01-25T07:35:45.269Z"
   },
   {
    "duration": 38,
    "start_time": "2022-01-25T07:35:45.283Z"
   },
   {
    "duration": 11,
    "start_time": "2022-01-25T07:35:45.323Z"
   },
   {
    "duration": 19,
    "start_time": "2022-01-25T07:35:45.336Z"
   },
   {
    "duration": 11,
    "start_time": "2022-01-25T07:35:45.357Z"
   },
   {
    "duration": 38,
    "start_time": "2022-01-25T07:35:45.370Z"
   },
   {
    "duration": 19,
    "start_time": "2022-01-25T07:35:45.411Z"
   },
   {
    "duration": 35,
    "start_time": "2022-01-25T07:35:45.432Z"
   },
   {
    "duration": 50,
    "start_time": "2022-01-25T07:35:45.470Z"
   },
   {
    "duration": 8,
    "start_time": "2022-01-25T07:35:45.522Z"
   },
   {
    "duration": 55,
    "start_time": "2022-01-25T07:35:45.532Z"
   },
   {
    "duration": 4532,
    "start_time": "2022-01-25T07:35:45.589Z"
   },
   {
    "duration": 37,
    "start_time": "2022-01-25T07:35:50.126Z"
   },
   {
    "duration": 74,
    "start_time": "2022-01-25T07:35:50.165Z"
   },
   {
    "duration": 28,
    "start_time": "2022-01-25T07:35:50.241Z"
   },
   {
    "duration": 310,
    "start_time": "2022-01-25T07:35:50.270Z"
   },
   {
    "duration": 37,
    "start_time": "2022-01-25T07:35:50.582Z"
   },
   {
    "duration": 13,
    "start_time": "2022-01-25T08:53:43.590Z"
   },
   {
    "duration": 92,
    "start_time": "2022-01-25T08:56:03.092Z"
   },
   {
    "duration": 722,
    "start_time": "2022-01-25T09:16:26.701Z"
   },
   {
    "duration": 7,
    "start_time": "2022-01-25T09:16:27.425Z"
   },
   {
    "duration": 15,
    "start_time": "2022-01-25T09:16:27.434Z"
   },
   {
    "duration": 9,
    "start_time": "2022-01-25T09:16:27.452Z"
   },
   {
    "duration": 16,
    "start_time": "2022-01-25T09:16:27.463Z"
   },
   {
    "duration": 27,
    "start_time": "2022-01-25T09:16:27.481Z"
   },
   {
    "duration": 7,
    "start_time": "2022-01-25T09:16:27.510Z"
   },
   {
    "duration": 8,
    "start_time": "2022-01-25T09:16:27.520Z"
   },
   {
    "duration": 9,
    "start_time": "2022-01-25T09:16:27.531Z"
   },
   {
    "duration": 14,
    "start_time": "2022-01-25T09:16:27.542Z"
   },
   {
    "duration": 11,
    "start_time": "2022-01-25T09:16:27.558Z"
   },
   {
    "duration": 36,
    "start_time": "2022-01-25T09:16:27.571Z"
   },
   {
    "duration": 9,
    "start_time": "2022-01-25T09:16:27.609Z"
   },
   {
    "duration": 16,
    "start_time": "2022-01-25T09:16:27.620Z"
   },
   {
    "duration": 13,
    "start_time": "2022-01-25T09:16:27.638Z"
   },
   {
    "duration": 21,
    "start_time": "2022-01-25T09:16:27.653Z"
   },
   {
    "duration": 33,
    "start_time": "2022-01-25T09:16:27.676Z"
   },
   {
    "duration": 33,
    "start_time": "2022-01-25T09:16:27.712Z"
   },
   {
    "duration": 19,
    "start_time": "2022-01-25T09:16:27.747Z"
   },
   {
    "duration": 6,
    "start_time": "2022-01-25T09:16:27.768Z"
   },
   {
    "duration": 73,
    "start_time": "2022-01-25T09:16:27.776Z"
   },
   {
    "duration": 3923,
    "start_time": "2022-01-25T09:16:27.851Z"
   },
   {
    "duration": 54,
    "start_time": "2022-01-25T09:16:31.779Z"
   },
   {
    "duration": 56,
    "start_time": "2022-01-25T09:16:31.835Z"
   },
   {
    "duration": 25,
    "start_time": "2022-01-25T09:16:31.908Z"
   },
   {
    "duration": 363,
    "start_time": "2022-01-25T09:16:31.935Z"
   },
   {
    "duration": 29,
    "start_time": "2022-01-25T09:16:32.300Z"
   },
   {
    "duration": 15,
    "start_time": "2022-01-25T09:17:13.672Z"
   },
   {
    "duration": 31,
    "start_time": "2022-01-25T09:17:31.960Z"
   },
   {
    "duration": 23,
    "start_time": "2022-01-25T09:17:37.836Z"
   },
   {
    "duration": 28,
    "start_time": "2022-01-25T09:17:43.310Z"
   },
   {
    "duration": 29,
    "start_time": "2022-01-25T09:18:46.992Z"
   },
   {
    "duration": 27,
    "start_time": "2022-01-25T09:19:07.531Z"
   },
   {
    "duration": 9,
    "start_time": "2022-01-25T09:19:18.715Z"
   },
   {
    "duration": 29,
    "start_time": "2022-01-25T09:19:27.241Z"
   },
   {
    "duration": 8,
    "start_time": "2022-01-25T09:20:01.929Z"
   },
   {
    "duration": 95,
    "start_time": "2022-01-25T09:20:17.060Z"
   },
   {
    "duration": 9,
    "start_time": "2022-01-25T09:21:37.980Z"
   },
   {
    "duration": 281,
    "start_time": "2022-01-25T09:23:02.950Z"
   },
   {
    "duration": 218,
    "start_time": "2022-01-25T09:23:33.049Z"
   },
   {
    "duration": 214,
    "start_time": "2022-01-25T09:23:45.242Z"
   },
   {
    "duration": 224,
    "start_time": "2022-01-25T09:24:07.331Z"
   },
   {
    "duration": 207,
    "start_time": "2022-01-25T09:24:18.455Z"
   },
   {
    "duration": 10,
    "start_time": "2022-01-25T09:24:29.976Z"
   },
   {
    "duration": 272,
    "start_time": "2022-01-25T09:24:54.430Z"
   },
   {
    "duration": 65,
    "start_time": "2022-01-25T09:25:09.536Z"
   },
   {
    "duration": 10,
    "start_time": "2022-01-25T09:25:18.321Z"
   },
   {
    "duration": 31,
    "start_time": "2022-01-25T09:25:28.230Z"
   },
   {
    "duration": 8,
    "start_time": "2022-01-25T09:37:52.343Z"
   },
   {
    "duration": 6,
    "start_time": "2022-01-25T09:38:11.244Z"
   },
   {
    "duration": 24,
    "start_time": "2022-01-25T09:38:23.497Z"
   },
   {
    "duration": 765,
    "start_time": "2022-01-25T09:38:29.625Z"
   },
   {
    "duration": 6,
    "start_time": "2022-01-25T09:38:30.392Z"
   },
   {
    "duration": 16,
    "start_time": "2022-01-25T09:38:30.400Z"
   },
   {
    "duration": 17,
    "start_time": "2022-01-25T09:38:30.418Z"
   },
   {
    "duration": 31,
    "start_time": "2022-01-25T09:38:30.437Z"
   },
   {
    "duration": 24,
    "start_time": "2022-01-25T09:38:30.470Z"
   },
   {
    "duration": 15,
    "start_time": "2022-01-25T09:38:30.496Z"
   },
   {
    "duration": 9,
    "start_time": "2022-01-25T09:38:30.516Z"
   },
   {
    "duration": 15,
    "start_time": "2022-01-25T09:38:30.527Z"
   },
   {
    "duration": 25,
    "start_time": "2022-01-25T09:38:30.544Z"
   },
   {
    "duration": 17,
    "start_time": "2022-01-25T09:38:30.571Z"
   },
   {
    "duration": 19,
    "start_time": "2022-01-25T09:38:30.590Z"
   },
   {
    "duration": 13,
    "start_time": "2022-01-25T09:38:30.611Z"
   },
   {
    "duration": 24,
    "start_time": "2022-01-25T09:38:30.626Z"
   },
   {
    "duration": 25,
    "start_time": "2022-01-25T09:38:30.652Z"
   },
   {
    "duration": 22,
    "start_time": "2022-01-25T09:38:30.680Z"
   },
   {
    "duration": 45,
    "start_time": "2022-01-25T09:38:30.704Z"
   },
   {
    "duration": 30,
    "start_time": "2022-01-25T09:38:30.751Z"
   },
   {
    "duration": 32,
    "start_time": "2022-01-25T09:38:30.784Z"
   },
   {
    "duration": 2,
    "start_time": "2022-01-25T09:38:30.818Z"
   },
   {
    "duration": 60,
    "start_time": "2022-01-25T09:38:30.822Z"
   },
   {
    "duration": 4579,
    "start_time": "2022-01-25T09:38:30.884Z"
   },
   {
    "duration": 54,
    "start_time": "2022-01-25T09:38:35.467Z"
   },
   {
    "duration": 56,
    "start_time": "2022-01-25T09:38:35.524Z"
   },
   {
    "duration": 46,
    "start_time": "2022-01-25T09:38:35.583Z"
   },
   {
    "duration": 315,
    "start_time": "2022-01-25T09:38:35.631Z"
   },
   {
    "duration": 25,
    "start_time": "2022-01-25T09:38:35.948Z"
   },
   {
    "duration": 326,
    "start_time": "2022-01-25T09:39:04.122Z"
   },
   {
    "duration": 9,
    "start_time": "2022-01-25T09:39:15.417Z"
   },
   {
    "duration": 33,
    "start_time": "2022-01-25T09:40:11.657Z"
   },
   {
    "duration": 8,
    "start_time": "2022-01-25T09:40:29.540Z"
   },
   {
    "duration": 20,
    "start_time": "2022-01-25T09:40:30.953Z"
   },
   {
    "duration": 9,
    "start_time": "2022-01-25T09:40:48.127Z"
   },
   {
    "duration": 689,
    "start_time": "2022-01-25T09:40:55.318Z"
   },
   {
    "duration": 7,
    "start_time": "2022-01-25T09:40:56.010Z"
   },
   {
    "duration": 20,
    "start_time": "2022-01-25T09:40:56.019Z"
   },
   {
    "duration": 13,
    "start_time": "2022-01-25T09:40:56.041Z"
   },
   {
    "duration": 21,
    "start_time": "2022-01-25T09:40:56.056Z"
   },
   {
    "duration": 28,
    "start_time": "2022-01-25T09:40:56.079Z"
   },
   {
    "duration": 19,
    "start_time": "2022-01-25T09:40:56.109Z"
   },
   {
    "duration": 21,
    "start_time": "2022-01-25T09:40:56.131Z"
   },
   {
    "duration": 16,
    "start_time": "2022-01-25T09:40:56.154Z"
   },
   {
    "duration": 22,
    "start_time": "2022-01-25T09:40:56.172Z"
   },
   {
    "duration": 23,
    "start_time": "2022-01-25T09:40:56.196Z"
   },
   {
    "duration": 20,
    "start_time": "2022-01-25T09:40:56.221Z"
   },
   {
    "duration": 11,
    "start_time": "2022-01-25T09:40:56.243Z"
   },
   {
    "duration": 12,
    "start_time": "2022-01-25T09:40:56.256Z"
   },
   {
    "duration": 17,
    "start_time": "2022-01-25T09:40:56.270Z"
   },
   {
    "duration": 13,
    "start_time": "2022-01-25T09:40:56.290Z"
   },
   {
    "duration": 20,
    "start_time": "2022-01-25T09:40:56.307Z"
   },
   {
    "duration": 33,
    "start_time": "2022-01-25T09:40:56.329Z"
   },
   {
    "duration": 18,
    "start_time": "2022-01-25T09:40:56.364Z"
   },
   {
    "duration": 3,
    "start_time": "2022-01-25T09:40:56.408Z"
   },
   {
    "duration": 58,
    "start_time": "2022-01-25T09:40:56.413Z"
   },
   {
    "duration": 3859,
    "start_time": "2022-01-25T09:40:56.473Z"
   },
   {
    "duration": 37,
    "start_time": "2022-01-25T09:41:00.336Z"
   },
   {
    "duration": 69,
    "start_time": "2022-01-25T09:41:00.375Z"
   },
   {
    "duration": 25,
    "start_time": "2022-01-25T09:41:00.446Z"
   },
   {
    "duration": 302,
    "start_time": "2022-01-25T09:41:00.473Z"
   },
   {
    "duration": 33,
    "start_time": "2022-01-25T09:41:00.777Z"
   },
   {
    "duration": 14,
    "start_time": "2022-01-25T09:41:35.765Z"
   },
   {
    "duration": 21,
    "start_time": "2022-01-25T09:41:36.759Z"
   },
   {
    "duration": 673,
    "start_time": "2022-01-25T09:41:41.710Z"
   },
   {
    "duration": 6,
    "start_time": "2022-01-25T09:41:42.385Z"
   },
   {
    "duration": 21,
    "start_time": "2022-01-25T09:41:42.393Z"
   },
   {
    "duration": 31,
    "start_time": "2022-01-25T09:41:42.417Z"
   },
   {
    "duration": 21,
    "start_time": "2022-01-25T09:41:42.450Z"
   },
   {
    "duration": 19,
    "start_time": "2022-01-25T09:41:42.473Z"
   },
   {
    "duration": 12,
    "start_time": "2022-01-25T09:41:42.494Z"
   },
   {
    "duration": 7,
    "start_time": "2022-01-25T09:41:42.509Z"
   },
   {
    "duration": 12,
    "start_time": "2022-01-25T09:41:42.518Z"
   },
   {
    "duration": 10,
    "start_time": "2022-01-25T09:41:42.532Z"
   },
   {
    "duration": 9,
    "start_time": "2022-01-25T09:41:42.544Z"
   },
   {
    "duration": 10,
    "start_time": "2022-01-25T09:41:42.555Z"
   },
   {
    "duration": 8,
    "start_time": "2022-01-25T09:41:42.567Z"
   },
   {
    "duration": 8,
    "start_time": "2022-01-25T09:41:42.608Z"
   },
   {
    "duration": 9,
    "start_time": "2022-01-25T09:41:42.618Z"
   },
   {
    "duration": 12,
    "start_time": "2022-01-25T09:41:42.629Z"
   },
   {
    "duration": 20,
    "start_time": "2022-01-25T09:41:42.643Z"
   },
   {
    "duration": 42,
    "start_time": "2022-01-25T09:41:42.665Z"
   },
   {
    "duration": 18,
    "start_time": "2022-01-25T09:41:42.709Z"
   },
   {
    "duration": 7,
    "start_time": "2022-01-25T09:41:42.728Z"
   },
   {
    "duration": 48,
    "start_time": "2022-01-25T09:41:42.737Z"
   },
   {
    "duration": 3939,
    "start_time": "2022-01-25T09:41:42.786Z"
   },
   {
    "duration": 39,
    "start_time": "2022-01-25T09:41:46.729Z"
   },
   {
    "duration": 61,
    "start_time": "2022-01-25T09:41:46.770Z"
   },
   {
    "duration": 26,
    "start_time": "2022-01-25T09:41:46.833Z"
   },
   {
    "duration": 319,
    "start_time": "2022-01-25T09:41:46.861Z"
   },
   {
    "duration": 25,
    "start_time": "2022-01-25T09:41:47.182Z"
   },
   {
    "duration": 17,
    "start_time": "2022-01-25T09:42:40.694Z"
   },
   {
    "duration": 17,
    "start_time": "2022-01-25T09:44:24.091Z"
   },
   {
    "duration": 16,
    "start_time": "2022-01-25T09:44:28.769Z"
   },
   {
    "duration": 26,
    "start_time": "2022-01-25T09:44:35.600Z"
   },
   {
    "duration": 15,
    "start_time": "2022-01-25T09:45:49.800Z"
   },
   {
    "duration": 17,
    "start_time": "2022-01-25T09:46:04.346Z"
   },
   {
    "duration": 10,
    "start_time": "2022-01-25T09:46:11.512Z"
   },
   {
    "duration": 15,
    "start_time": "2022-01-25T09:46:24.722Z"
   },
   {
    "duration": 17,
    "start_time": "2022-01-25T09:47:08.953Z"
   },
   {
    "duration": 46,
    "start_time": "2022-01-25T09:49:21.310Z"
   },
   {
    "duration": 52,
    "start_time": "2022-01-25T09:49:52.842Z"
   },
   {
    "duration": 44,
    "start_time": "2022-01-25T09:50:52.495Z"
   },
   {
    "duration": 69,
    "start_time": "2022-01-25T09:52:29.902Z"
   },
   {
    "duration": 300,
    "start_time": "2022-01-25T10:27:19.590Z"
   },
   {
    "duration": 320,
    "start_time": "2022-01-26T05:49:01.679Z"
   },
   {
    "duration": 636,
    "start_time": "2022-01-26T05:49:14.415Z"
   },
   {
    "duration": 4,
    "start_time": "2022-01-26T05:49:15.053Z"
   },
   {
    "duration": 12,
    "start_time": "2022-01-26T05:49:15.059Z"
   },
   {
    "duration": 4,
    "start_time": "2022-01-26T05:49:15.073Z"
   },
   {
    "duration": 6,
    "start_time": "2022-01-26T05:49:15.079Z"
   },
   {
    "duration": 5,
    "start_time": "2022-01-26T05:49:15.087Z"
   },
   {
    "duration": 7,
    "start_time": "2022-01-26T05:49:15.093Z"
   },
   {
    "duration": 25,
    "start_time": "2022-01-26T05:49:15.102Z"
   },
   {
    "duration": 6,
    "start_time": "2022-01-26T05:49:15.129Z"
   },
   {
    "duration": 7,
    "start_time": "2022-01-26T05:49:15.136Z"
   },
   {
    "duration": 7,
    "start_time": "2022-01-26T05:49:15.144Z"
   },
   {
    "duration": 6,
    "start_time": "2022-01-26T05:49:15.153Z"
   },
   {
    "duration": 6,
    "start_time": "2022-01-26T05:49:15.160Z"
   },
   {
    "duration": 6,
    "start_time": "2022-01-26T05:49:15.167Z"
   },
   {
    "duration": 6,
    "start_time": "2022-01-26T05:49:15.175Z"
   },
   {
    "duration": 68,
    "start_time": "2022-01-26T05:49:15.182Z"
   },
   {
    "duration": 337,
    "start_time": "2022-01-26T05:49:15.252Z"
   },
   {
    "duration": 699,
    "start_time": "2022-01-26T05:49:14.892Z"
   },
   {
    "duration": 697,
    "start_time": "2022-01-26T05:49:14.896Z"
   },
   {
    "duration": 694,
    "start_time": "2022-01-26T05:49:14.900Z"
   },
   {
    "duration": 691,
    "start_time": "2022-01-26T05:49:14.905Z"
   },
   {
    "duration": 687,
    "start_time": "2022-01-26T05:49:14.910Z"
   },
   {
    "duration": 685,
    "start_time": "2022-01-26T05:49:14.913Z"
   },
   {
    "duration": 683,
    "start_time": "2022-01-26T05:49:14.916Z"
   },
   {
    "duration": 682,
    "start_time": "2022-01-26T05:49:14.919Z"
   },
   {
    "duration": 678,
    "start_time": "2022-01-26T05:49:14.924Z"
   },
   {
    "duration": 297,
    "start_time": "2022-01-26T05:49:38.464Z"
   },
   {
    "duration": 321,
    "start_time": "2022-01-26T05:52:29.145Z"
   },
   {
    "duration": 12,
    "start_time": "2022-01-26T05:53:00.139Z"
   },
   {
    "duration": 10,
    "start_time": "2022-01-26T05:53:29.675Z"
   },
   {
    "duration": 8,
    "start_time": "2022-01-26T05:54:24.917Z"
   },
   {
    "duration": 8,
    "start_time": "2022-01-26T05:54:31.007Z"
   },
   {
    "duration": 7,
    "start_time": "2022-01-26T05:54:48.792Z"
   },
   {
    "duration": 636,
    "start_time": "2022-01-26T05:55:16.422Z"
   },
   {
    "duration": 6,
    "start_time": "2022-01-26T05:55:17.060Z"
   },
   {
    "duration": 9,
    "start_time": "2022-01-26T05:55:17.068Z"
   },
   {
    "duration": 6,
    "start_time": "2022-01-26T05:55:17.079Z"
   },
   {
    "duration": 9,
    "start_time": "2022-01-26T05:55:17.086Z"
   },
   {
    "duration": 6,
    "start_time": "2022-01-26T05:55:17.097Z"
   },
   {
    "duration": 27,
    "start_time": "2022-01-26T05:55:17.105Z"
   },
   {
    "duration": 5,
    "start_time": "2022-01-26T05:55:17.135Z"
   },
   {
    "duration": 7,
    "start_time": "2022-01-26T05:55:17.142Z"
   },
   {
    "duration": 345,
    "start_time": "2022-01-26T05:55:17.151Z"
   },
   {
    "duration": 697,
    "start_time": "2022-01-26T05:55:16.802Z"
   },
   {
    "duration": 685,
    "start_time": "2022-01-26T05:55:16.815Z"
   },
   {
    "duration": 682,
    "start_time": "2022-01-26T05:55:16.819Z"
   },
   {
    "duration": 680,
    "start_time": "2022-01-26T05:55:16.823Z"
   },
   {
    "duration": 677,
    "start_time": "2022-01-26T05:55:16.827Z"
   },
   {
    "duration": 672,
    "start_time": "2022-01-26T05:55:16.833Z"
   },
   {
    "duration": 669,
    "start_time": "2022-01-26T05:55:16.838Z"
   },
   {
    "duration": 661,
    "start_time": "2022-01-26T05:55:16.847Z"
   },
   {
    "duration": 659,
    "start_time": "2022-01-26T05:55:16.851Z"
   },
   {
    "duration": 655,
    "start_time": "2022-01-26T05:55:16.856Z"
   },
   {
    "duration": 652,
    "start_time": "2022-01-26T05:55:16.860Z"
   },
   {
    "duration": 649,
    "start_time": "2022-01-26T05:55:16.865Z"
   },
   {
    "duration": 647,
    "start_time": "2022-01-26T05:55:16.868Z"
   },
   {
    "duration": 643,
    "start_time": "2022-01-26T05:55:16.873Z"
   },
   {
    "duration": 641,
    "start_time": "2022-01-26T05:55:16.877Z"
   },
   {
    "duration": 637,
    "start_time": "2022-01-26T05:55:16.882Z"
   },
   {
    "duration": 7,
    "start_time": "2022-01-26T05:55:46.169Z"
   },
   {
    "duration": 6,
    "start_time": "2022-01-26T05:55:57.888Z"
   },
   {
    "duration": 6,
    "start_time": "2022-01-26T05:56:00.920Z"
   },
   {
    "duration": 617,
    "start_time": "2022-01-26T05:56:12.961Z"
   },
   {
    "duration": 5,
    "start_time": "2022-01-26T05:56:13.579Z"
   },
   {
    "duration": 7,
    "start_time": "2022-01-26T05:56:13.586Z"
   },
   {
    "duration": 4,
    "start_time": "2022-01-26T05:56:13.595Z"
   },
   {
    "duration": 6,
    "start_time": "2022-01-26T05:56:13.601Z"
   },
   {
    "duration": 21,
    "start_time": "2022-01-26T05:56:13.609Z"
   },
   {
    "duration": 7,
    "start_time": "2022-01-26T05:56:13.632Z"
   },
   {
    "duration": 5,
    "start_time": "2022-01-26T05:56:13.642Z"
   },
   {
    "duration": 7,
    "start_time": "2022-01-26T05:56:13.649Z"
   },
   {
    "duration": 7,
    "start_time": "2022-01-26T05:56:13.658Z"
   },
   {
    "duration": 5,
    "start_time": "2022-01-26T05:56:13.667Z"
   },
   {
    "duration": 8,
    "start_time": "2022-01-26T05:56:13.674Z"
   },
   {
    "duration": 51,
    "start_time": "2022-01-26T05:56:13.683Z"
   },
   {
    "duration": 7,
    "start_time": "2022-01-26T05:56:13.736Z"
   },
   {
    "duration": 8,
    "start_time": "2022-01-26T05:56:13.744Z"
   },
   {
    "duration": 36,
    "start_time": "2022-01-26T05:56:13.754Z"
   },
   {
    "duration": 40,
    "start_time": "2022-01-26T05:56:13.792Z"
   },
   {
    "duration": 12,
    "start_time": "2022-01-26T05:56:13.833Z"
   },
   {
    "duration": 16,
    "start_time": "2022-01-26T05:56:13.846Z"
   },
   {
    "duration": 37,
    "start_time": "2022-01-26T05:56:13.863Z"
   },
   {
    "duration": 3452,
    "start_time": "2022-01-26T05:56:13.927Z"
   },
   {
    "duration": 28,
    "start_time": "2022-01-26T05:56:17.381Z"
   },
   {
    "duration": 53,
    "start_time": "2022-01-26T05:56:17.412Z"
   },
   {
    "duration": 333,
    "start_time": "2022-01-26T05:56:17.467Z"
   },
   {
    "duration": 712,
    "start_time": "2022-01-26T05:56:17.090Z"
   },
   {
    "duration": 709,
    "start_time": "2022-01-26T05:56:17.094Z"
   },
   {
    "duration": 13,
    "start_time": "2022-01-26T05:57:16.776Z"
   },
   {
    "duration": 7,
    "start_time": "2022-01-26T05:57:39.613Z"
   },
   {
    "duration": 7,
    "start_time": "2022-01-26T05:57:45.348Z"
   },
   {
    "duration": 595,
    "start_time": "2022-01-26T05:57:51.162Z"
   },
   {
    "duration": 5,
    "start_time": "2022-01-26T05:57:51.759Z"
   },
   {
    "duration": 11,
    "start_time": "2022-01-26T05:57:51.765Z"
   },
   {
    "duration": 17,
    "start_time": "2022-01-26T05:57:51.777Z"
   },
   {
    "duration": 13,
    "start_time": "2022-01-26T05:57:51.795Z"
   },
   {
    "duration": 9,
    "start_time": "2022-01-26T05:57:51.809Z"
   },
   {
    "duration": 22,
    "start_time": "2022-01-26T05:57:51.819Z"
   },
   {
    "duration": 6,
    "start_time": "2022-01-26T05:57:51.843Z"
   },
   {
    "duration": 24,
    "start_time": "2022-01-26T05:57:51.851Z"
   },
   {
    "duration": 9,
    "start_time": "2022-01-26T05:57:51.876Z"
   },
   {
    "duration": 5,
    "start_time": "2022-01-26T05:57:51.886Z"
   },
   {
    "duration": 337,
    "start_time": "2022-01-26T05:57:51.893Z"
   },
   {
    "duration": 692,
    "start_time": "2022-01-26T05:57:51.539Z"
   },
   {
    "duration": 690,
    "start_time": "2022-01-26T05:57:51.542Z"
   },
   {
    "duration": 687,
    "start_time": "2022-01-26T05:57:51.546Z"
   },
   {
    "duration": 684,
    "start_time": "2022-01-26T05:57:51.550Z"
   },
   {
    "duration": 682,
    "start_time": "2022-01-26T05:57:51.553Z"
   },
   {
    "duration": 672,
    "start_time": "2022-01-26T05:57:51.564Z"
   },
   {
    "duration": 669,
    "start_time": "2022-01-26T05:57:51.568Z"
   },
   {
    "duration": 668,
    "start_time": "2022-01-26T05:57:51.570Z"
   },
   {
    "duration": 665,
    "start_time": "2022-01-26T05:57:51.574Z"
   },
   {
    "duration": 657,
    "start_time": "2022-01-26T05:57:51.583Z"
   },
   {
    "duration": 648,
    "start_time": "2022-01-26T05:57:51.592Z"
   },
   {
    "duration": 642,
    "start_time": "2022-01-26T05:57:51.599Z"
   },
   {
    "duration": 632,
    "start_time": "2022-01-26T05:57:51.610Z"
   },
   {
    "duration": 617,
    "start_time": "2022-01-26T05:57:51.626Z"
   },
   {
    "duration": 307,
    "start_time": "2022-01-26T05:58:07.240Z"
   },
   {
    "duration": 7,
    "start_time": "2022-01-26T05:58:11.449Z"
   },
   {
    "duration": 627,
    "start_time": "2022-01-26T05:58:28.024Z"
   },
   {
    "duration": 5,
    "start_time": "2022-01-26T05:58:28.652Z"
   },
   {
    "duration": 7,
    "start_time": "2022-01-26T05:58:28.659Z"
   },
   {
    "duration": 5,
    "start_time": "2022-01-26T05:58:28.667Z"
   },
   {
    "duration": 7,
    "start_time": "2022-01-26T05:58:28.673Z"
   },
   {
    "duration": 6,
    "start_time": "2022-01-26T05:58:28.681Z"
   },
   {
    "duration": 7,
    "start_time": "2022-01-26T05:58:28.688Z"
   },
   {
    "duration": 5,
    "start_time": "2022-01-26T05:58:28.729Z"
   },
   {
    "duration": 6,
    "start_time": "2022-01-26T05:58:28.736Z"
   },
   {
    "duration": 7,
    "start_time": "2022-01-26T05:58:28.744Z"
   },
   {
    "duration": 6,
    "start_time": "2022-01-26T05:58:28.752Z"
   },
   {
    "duration": 7,
    "start_time": "2022-01-26T05:58:28.760Z"
   },
   {
    "duration": 7,
    "start_time": "2022-01-26T05:58:28.768Z"
   },
   {
    "duration": 8,
    "start_time": "2022-01-26T05:58:28.776Z"
   },
   {
    "duration": 7,
    "start_time": "2022-01-26T05:58:28.827Z"
   },
   {
    "duration": 35,
    "start_time": "2022-01-26T05:58:28.835Z"
   },
   {
    "duration": 11,
    "start_time": "2022-01-26T05:58:28.872Z"
   },
   {
    "duration": 11,
    "start_time": "2022-01-26T05:58:28.884Z"
   },
   {
    "duration": 39,
    "start_time": "2022-01-26T05:58:28.896Z"
   },
   {
    "duration": 38,
    "start_time": "2022-01-26T05:58:28.937Z"
   },
   {
    "duration": 3630,
    "start_time": "2022-01-26T05:58:28.977Z"
   },
   {
    "duration": 40,
    "start_time": "2022-01-26T05:58:32.609Z"
   },
   {
    "duration": 40,
    "start_time": "2022-01-26T05:58:32.651Z"
   },
   {
    "duration": 361,
    "start_time": "2022-01-26T05:58:32.693Z"
   },
   {
    "duration": 705,
    "start_time": "2022-01-26T05:58:32.350Z"
   },
   {
    "duration": 704,
    "start_time": "2022-01-26T05:58:32.353Z"
   },
   {
    "duration": 657,
    "start_time": "2022-01-26T14:26:53.140Z"
   },
   {
    "duration": 35,
    "start_time": "2022-01-26T14:26:53.799Z"
   },
   {
    "duration": 3448,
    "start_time": "2022-01-26T14:26:53.836Z"
   },
   {
    "duration": 26,
    "start_time": "2022-01-26T14:26:57.286Z"
   },
   {
    "duration": 40,
    "start_time": "2022-01-26T14:26:57.327Z"
   },
   {
    "duration": 347,
    "start_time": "2022-01-26T14:26:57.369Z"
   },
   {
    "duration": -130,
    "start_time": "2022-01-26T14:26:57.848Z"
   },
   {
    "duration": -135,
    "start_time": "2022-01-26T14:26:57.854Z"
   },
   {
    "duration": 663,
    "start_time": "2022-01-26T14:30:11.795Z"
   },
   {
    "duration": 6,
    "start_time": "2022-01-26T14:34:16.667Z"
   },
   {
    "duration": 7,
    "start_time": "2022-01-26T14:34:59.763Z"
   },
   {
    "duration": 517,
    "start_time": "2022-01-26T14:36:24.318Z"
   },
   {
    "duration": 7,
    "start_time": "2022-01-26T14:36:30.978Z"
   },
   {
    "duration": 7,
    "start_time": "2022-01-26T14:37:34.772Z"
   },
   {
    "duration": 6,
    "start_time": "2022-01-26T14:38:06.223Z"
   },
   {
    "duration": 6,
    "start_time": "2022-01-26T14:38:49.088Z"
   },
   {
    "duration": 8,
    "start_time": "2022-01-26T14:39:09.526Z"
   },
   {
    "duration": 6,
    "start_time": "2022-01-26T14:39:38.605Z"
   },
   {
    "duration": 8,
    "start_time": "2022-01-26T14:39:53.062Z"
   },
   {
    "duration": 7,
    "start_time": "2022-01-26T14:40:25.596Z"
   },
   {
    "duration": 6,
    "start_time": "2022-01-26T14:40:41.105Z"
   },
   {
    "duration": 8,
    "start_time": "2022-01-26T14:40:55.908Z"
   },
   {
    "duration": 8,
    "start_time": "2022-01-26T14:41:42.560Z"
   },
   {
    "duration": 289,
    "start_time": "2022-01-26T14:44:05.823Z"
   },
   {
    "duration": 292,
    "start_time": "2022-01-26T14:47:36.964Z"
   },
   {
    "duration": 3,
    "start_time": "2022-01-26T14:48:11.310Z"
   },
   {
    "duration": 12,
    "start_time": "2022-01-26T14:48:24.722Z"
   },
   {
    "duration": 19,
    "start_time": "2022-01-26T14:48:32.779Z"
   },
   {
    "duration": 316,
    "start_time": "2022-01-26T14:48:47.744Z"
   },
   {
    "duration": 291,
    "start_time": "2022-01-26T14:48:54.250Z"
   },
   {
    "duration": 9,
    "start_time": "2022-01-26T14:51:16.921Z"
   },
   {
    "duration": 15,
    "start_time": "2022-01-26T14:51:31.932Z"
   },
   {
    "duration": 11,
    "start_time": "2022-01-26T14:51:36.365Z"
   },
   {
    "duration": 13,
    "start_time": "2022-01-26T14:53:15.607Z"
   },
   {
    "duration": 14,
    "start_time": "2022-01-26T14:53:40.897Z"
   },
   {
    "duration": 12,
    "start_time": "2022-01-26T14:53:43.834Z"
   },
   {
    "duration": 31,
    "start_time": "2022-01-26T14:53:57.130Z"
   },
   {
    "duration": 12,
    "start_time": "2022-01-26T14:54:39.150Z"
   },
   {
    "duration": 26,
    "start_time": "2022-01-26T14:54:42.006Z"
   },
   {
    "duration": 17,
    "start_time": "2022-01-26T15:00:20.464Z"
   },
   {
    "duration": 22,
    "start_time": "2022-01-26T15:00:36.718Z"
   },
   {
    "duration": 19,
    "start_time": "2022-01-26T15:00:47.230Z"
   },
   {
    "duration": 20,
    "start_time": "2022-01-26T15:01:54.486Z"
   },
   {
    "duration": 11,
    "start_time": "2022-01-26T15:02:14.067Z"
   },
   {
    "duration": 17,
    "start_time": "2022-01-26T15:02:23.576Z"
   },
   {
    "duration": 12,
    "start_time": "2022-01-26T15:02:26.440Z"
   },
   {
    "duration": 19,
    "start_time": "2022-01-26T15:02:58.420Z"
   },
   {
    "duration": 6,
    "start_time": "2022-01-26T15:04:46.032Z"
   },
   {
    "duration": 77,
    "start_time": "2022-01-26T15:09:04.720Z"
   },
   {
    "duration": 54,
    "start_time": "2022-01-26T15:09:36.944Z"
   },
   {
    "duration": 6,
    "start_time": "2022-01-26T15:09:40.773Z"
   },
   {
    "duration": 305,
    "start_time": "2022-01-26T15:11:28.571Z"
   },
   {
    "duration": 22,
    "start_time": "2022-01-26T15:11:32.947Z"
   },
   {
    "duration": 22,
    "start_time": "2022-01-26T15:12:03.397Z"
   },
   {
    "duration": 52,
    "start_time": "2022-01-26T15:12:41.008Z"
   },
   {
    "duration": 22,
    "start_time": "2022-01-26T15:12:44.222Z"
   },
   {
    "duration": 55,
    "start_time": "2022-01-26T15:13:04.168Z"
   },
   {
    "duration": 10,
    "start_time": "2022-01-26T15:13:18.081Z"
   },
   {
    "duration": 42,
    "start_time": "2022-01-26T15:13:38.759Z"
   },
   {
    "duration": 51,
    "start_time": "2022-01-26T15:14:27.577Z"
   },
   {
    "duration": 28,
    "start_time": "2022-01-26T15:14:29.271Z"
   },
   {
    "duration": 271,
    "start_time": "2022-01-26T15:15:05.250Z"
   },
   {
    "duration": 321,
    "start_time": "2022-01-26T15:15:10.953Z"
   },
   {
    "duration": 6,
    "start_time": "2022-01-26T15:15:20.830Z"
   },
   {
    "duration": 609,
    "start_time": "2022-01-26T15:16:05.864Z"
   },
   {
    "duration": 5,
    "start_time": "2022-01-26T15:16:06.475Z"
   },
   {
    "duration": 8,
    "start_time": "2022-01-26T15:16:06.482Z"
   },
   {
    "duration": 5,
    "start_time": "2022-01-26T15:16:06.492Z"
   },
   {
    "duration": 8,
    "start_time": "2022-01-26T15:16:06.498Z"
   },
   {
    "duration": 22,
    "start_time": "2022-01-26T15:16:06.508Z"
   },
   {
    "duration": 6,
    "start_time": "2022-01-26T15:16:06.531Z"
   },
   {
    "duration": 6,
    "start_time": "2022-01-26T15:16:06.539Z"
   },
   {
    "duration": 7,
    "start_time": "2022-01-26T15:16:06.547Z"
   },
   {
    "duration": 7,
    "start_time": "2022-01-26T15:16:06.556Z"
   },
   {
    "duration": 5,
    "start_time": "2022-01-26T15:16:06.565Z"
   },
   {
    "duration": 6,
    "start_time": "2022-01-26T15:16:06.571Z"
   },
   {
    "duration": 49,
    "start_time": "2022-01-26T15:16:06.579Z"
   },
   {
    "duration": 55,
    "start_time": "2022-01-26T15:16:06.630Z"
   },
   {
    "duration": 4,
    "start_time": "2022-01-26T15:16:06.687Z"
   },
   {
    "duration": 55,
    "start_time": "2022-01-26T15:16:34.702Z"
   },
   {
    "duration": 4,
    "start_time": "2022-01-26T15:16:37.372Z"
   },
   {
    "duration": 65,
    "start_time": "2022-01-26T15:19:16.227Z"
   },
   {
    "duration": 67,
    "start_time": "2022-01-26T15:19:48.911Z"
   },
   {
    "duration": 50,
    "start_time": "2022-01-26T15:19:56.134Z"
   },
   {
    "duration": 421,
    "start_time": "2022-01-26T15:22:21.310Z"
   },
   {
    "duration": 17,
    "start_time": "2022-01-26T15:22:26.876Z"
   },
   {
    "duration": 22,
    "start_time": "2022-01-26T15:23:54.338Z"
   },
   {
    "duration": 3505,
    "start_time": "2022-01-26T15:24:22.611Z"
   },
   {
    "duration": 2804,
    "start_time": "2022-01-26T15:24:26.470Z"
   },
   {
    "duration": 31,
    "start_time": "2022-01-26T15:24:58.238Z"
   },
   {
    "duration": 54,
    "start_time": "2022-01-26T15:25:52.733Z"
   },
   {
    "duration": 34,
    "start_time": "2022-01-26T15:26:13.750Z"
   },
   {
    "duration": 307,
    "start_time": "2022-01-26T15:27:06.722Z"
   },
   {
    "duration": 14,
    "start_time": "2022-01-26T15:28:26.622Z"
   },
   {
    "duration": 17,
    "start_time": "2022-01-26T15:28:32.122Z"
   },
   {
    "duration": -96,
    "start_time": "2022-01-26T15:40:11.978Z"
   },
   {
    "duration": 19,
    "start_time": "2022-01-26T15:40:18.045Z"
   },
   {
    "duration": 18,
    "start_time": "2022-01-26T15:40:38.143Z"
   },
   {
    "duration": 18,
    "start_time": "2022-01-26T15:42:35.819Z"
   },
   {
    "duration": 5224,
    "start_time": "2022-01-26T15:44:44.526Z"
   },
   {
    "duration": 5884,
    "start_time": "2022-01-26T15:44:56.316Z"
   },
   {
    "duration": 5572,
    "start_time": "2022-01-26T15:46:16.406Z"
   },
   {
    "duration": 6508,
    "start_time": "2022-01-26T15:46:39.759Z"
   },
   {
    "duration": 18,
    "start_time": "2022-01-26T15:46:53.031Z"
   },
   {
    "duration": 20,
    "start_time": "2022-01-26T15:48:23.062Z"
   },
   {
    "duration": 18,
    "start_time": "2022-01-26T15:48:45.506Z"
   },
   {
    "duration": 17,
    "start_time": "2022-01-26T15:50:56.967Z"
   },
   {
    "duration": 19,
    "start_time": "2022-01-26T15:51:32.434Z"
   },
   {
    "duration": 17,
    "start_time": "2022-01-26T15:51:49.928Z"
   },
   {
    "duration": 16,
    "start_time": "2022-01-26T15:52:45.061Z"
   },
   {
    "duration": 19,
    "start_time": "2022-01-26T15:53:24.607Z"
   },
   {
    "duration": 19,
    "start_time": "2022-01-26T15:53:34.178Z"
   },
   {
    "duration": 27,
    "start_time": "2022-01-26T15:53:52.394Z"
   },
   {
    "duration": 27,
    "start_time": "2022-01-26T15:53:55.855Z"
   },
   {
    "duration": 27,
    "start_time": "2022-01-26T15:54:23.380Z"
   },
   {
    "duration": 27,
    "start_time": "2022-01-26T15:55:48.316Z"
   },
   {
    "duration": 33,
    "start_time": "2022-01-26T15:56:29.663Z"
   },
   {
    "duration": 18,
    "start_time": "2022-01-26T15:58:54.708Z"
   },
   {
    "duration": 14,
    "start_time": "2022-01-26T16:01:40.061Z"
   },
   {
    "duration": 240,
    "start_time": "2022-01-26T16:04:25.617Z"
   },
   {
    "duration": 54,
    "start_time": "2022-01-26T16:05:56.925Z"
   },
   {
    "duration": 646,
    "start_time": "2022-01-26T16:06:02.132Z"
   },
   {
    "duration": 5,
    "start_time": "2022-01-26T16:06:02.779Z"
   },
   {
    "duration": 8,
    "start_time": "2022-01-26T16:06:02.786Z"
   },
   {
    "duration": 5,
    "start_time": "2022-01-26T16:06:02.796Z"
   },
   {
    "duration": 8,
    "start_time": "2022-01-26T16:06:02.802Z"
   },
   {
    "duration": 5,
    "start_time": "2022-01-26T16:06:02.827Z"
   },
   {
    "duration": 7,
    "start_time": "2022-01-26T16:06:02.834Z"
   },
   {
    "duration": 7,
    "start_time": "2022-01-26T16:06:02.843Z"
   },
   {
    "duration": 6,
    "start_time": "2022-01-26T16:06:02.852Z"
   },
   {
    "duration": 8,
    "start_time": "2022-01-26T16:06:02.859Z"
   },
   {
    "duration": 6,
    "start_time": "2022-01-26T16:06:02.868Z"
   },
   {
    "duration": 7,
    "start_time": "2022-01-26T16:06:02.875Z"
   },
   {
    "duration": 6,
    "start_time": "2022-01-26T16:06:02.883Z"
   },
   {
    "duration": 90,
    "start_time": "2022-01-26T16:06:02.890Z"
   },
   {
    "duration": 15,
    "start_time": "2022-01-26T16:06:02.981Z"
   },
   {
    "duration": 35,
    "start_time": "2022-01-26T16:06:02.997Z"
   },
   {
    "duration": 3442,
    "start_time": "2022-01-26T16:06:03.034Z"
   },
   {
    "duration": 27,
    "start_time": "2022-01-26T16:06:06.478Z"
   },
   {
    "duration": 41,
    "start_time": "2022-01-26T16:06:06.506Z"
   },
   {
    "duration": 17,
    "start_time": "2022-01-26T16:06:06.549Z"
   },
   {
    "duration": 246,
    "start_time": "2022-01-26T16:06:06.567Z"
   },
   {
    "duration": 13,
    "start_time": "2022-01-26T16:06:22.991Z"
   },
   {
    "duration": 23,
    "start_time": "2022-01-26T16:06:49.809Z"
   },
   {
    "duration": 13,
    "start_time": "2022-01-26T16:06:58.193Z"
   },
   {
    "duration": 222,
    "start_time": "2022-01-26T16:08:55.695Z"
   },
   {
    "duration": 234,
    "start_time": "2022-01-26T16:10:15.560Z"
   },
   {
    "duration": 224,
    "start_time": "2022-01-26T16:10:28.070Z"
   },
   {
    "duration": 222,
    "start_time": "2022-01-26T16:10:45.321Z"
   },
   {
    "duration": 17,
    "start_time": "2022-01-26T16:13:14.164Z"
   },
   {
    "duration": 19,
    "start_time": "2022-01-26T16:14:00.235Z"
   },
   {
    "duration": 227,
    "start_time": "2022-01-26T16:14:12.158Z"
   },
   {
    "duration": 645,
    "start_time": "2022-01-26T16:36:18.689Z"
   },
   {
    "duration": 6,
    "start_time": "2022-01-26T16:36:19.336Z"
   },
   {
    "duration": 15,
    "start_time": "2022-01-26T16:36:19.344Z"
   },
   {
    "duration": 8,
    "start_time": "2022-01-26T16:36:19.361Z"
   },
   {
    "duration": 15,
    "start_time": "2022-01-26T16:36:19.370Z"
   },
   {
    "duration": 13,
    "start_time": "2022-01-26T16:36:19.386Z"
   },
   {
    "duration": 13,
    "start_time": "2022-01-26T16:36:19.401Z"
   },
   {
    "duration": 13,
    "start_time": "2022-01-26T16:36:19.416Z"
   },
   {
    "duration": 12,
    "start_time": "2022-01-26T16:36:19.430Z"
   },
   {
    "duration": 13,
    "start_time": "2022-01-26T16:36:19.443Z"
   },
   {
    "duration": 9,
    "start_time": "2022-01-26T16:36:19.457Z"
   },
   {
    "duration": 11,
    "start_time": "2022-01-26T16:36:19.468Z"
   },
   {
    "duration": 6,
    "start_time": "2022-01-26T16:36:19.480Z"
   },
   {
    "duration": 57,
    "start_time": "2022-01-26T16:36:19.487Z"
   },
   {
    "duration": 14,
    "start_time": "2022-01-26T16:36:19.546Z"
   },
   {
    "duration": 16,
    "start_time": "2022-01-26T16:36:19.562Z"
   },
   {
    "duration": 3479,
    "start_time": "2022-01-26T16:36:19.580Z"
   },
   {
    "duration": 27,
    "start_time": "2022-01-26T16:36:23.060Z"
   },
   {
    "duration": 25,
    "start_time": "2022-01-26T16:36:23.088Z"
   },
   {
    "duration": 17,
    "start_time": "2022-01-26T16:36:23.127Z"
   },
   {
    "duration": 237,
    "start_time": "2022-01-26T16:36:23.146Z"
   },
   {
    "duration": 17,
    "start_time": "2022-01-26T16:36:23.385Z"
   },
   {
    "duration": 831,
    "start_time": "2022-01-27T12:41:04.984Z"
   },
   {
    "duration": 9,
    "start_time": "2022-01-27T12:41:05.818Z"
   },
   {
    "duration": 36,
    "start_time": "2022-01-27T12:41:05.829Z"
   },
   {
    "duration": 23,
    "start_time": "2022-01-27T12:41:05.867Z"
   },
   {
    "duration": 30,
    "start_time": "2022-01-27T12:41:05.892Z"
   },
   {
    "duration": 14,
    "start_time": "2022-01-27T12:41:05.925Z"
   },
   {
    "duration": 36,
    "start_time": "2022-01-27T12:41:05.941Z"
   },
   {
    "duration": 35,
    "start_time": "2022-01-27T12:41:05.981Z"
   },
   {
    "duration": 47,
    "start_time": "2022-01-27T12:41:06.019Z"
   },
   {
    "duration": 33,
    "start_time": "2022-01-27T12:41:06.069Z"
   },
   {
    "duration": 11,
    "start_time": "2022-01-27T12:41:06.104Z"
   },
   {
    "duration": 19,
    "start_time": "2022-01-27T12:41:06.117Z"
   },
   {
    "duration": 18,
    "start_time": "2022-01-27T12:41:06.139Z"
   },
   {
    "duration": 131,
    "start_time": "2022-01-27T12:41:06.160Z"
   },
   {
    "duration": 40,
    "start_time": "2022-01-27T12:41:06.294Z"
   },
   {
    "duration": 36,
    "start_time": "2022-01-27T12:41:06.337Z"
   },
   {
    "duration": 4880,
    "start_time": "2022-01-27T12:41:06.376Z"
   },
   {
    "duration": 44,
    "start_time": "2022-01-27T12:41:11.259Z"
   },
   {
    "duration": 36,
    "start_time": "2022-01-27T12:41:11.323Z"
   },
   {
    "duration": 32,
    "start_time": "2022-01-27T12:41:11.362Z"
   },
   {
    "duration": 430,
    "start_time": "2022-01-27T12:41:11.396Z"
   },
   {
    "duration": 29,
    "start_time": "2022-01-27T12:41:11.828Z"
   },
   {
    "duration": 891,
    "start_time": "2022-01-27T13:13:03.823Z"
   },
   {
    "duration": 11,
    "start_time": "2022-01-27T13:13:04.718Z"
   },
   {
    "duration": 19,
    "start_time": "2022-01-27T13:13:04.732Z"
   },
   {
    "duration": 9,
    "start_time": "2022-01-27T13:13:04.753Z"
   },
   {
    "duration": 9,
    "start_time": "2022-01-27T13:13:04.764Z"
   },
   {
    "duration": 10,
    "start_time": "2022-01-27T13:13:04.776Z"
   },
   {
    "duration": 9,
    "start_time": "2022-01-27T13:13:04.824Z"
   },
   {
    "duration": 15,
    "start_time": "2022-01-27T13:13:04.837Z"
   },
   {
    "duration": 10,
    "start_time": "2022-01-27T13:13:04.855Z"
   },
   {
    "duration": 17,
    "start_time": "2022-01-27T13:13:04.868Z"
   },
   {
    "duration": 42,
    "start_time": "2022-01-27T13:13:04.888Z"
   },
   {
    "duration": 23,
    "start_time": "2022-01-27T13:13:04.933Z"
   },
   {
    "duration": 15,
    "start_time": "2022-01-27T13:13:04.960Z"
   },
   {
    "duration": 122,
    "start_time": "2022-01-27T13:13:04.977Z"
   },
   {
    "duration": 38,
    "start_time": "2022-01-27T13:13:05.102Z"
   },
   {
    "duration": 27,
    "start_time": "2022-01-27T13:13:05.142Z"
   },
   {
    "duration": 5241,
    "start_time": "2022-01-27T13:13:05.171Z"
   },
   {
    "duration": 75,
    "start_time": "2022-01-27T13:13:10.414Z"
   },
   {
    "duration": 62,
    "start_time": "2022-01-27T13:13:10.493Z"
   },
   {
    "duration": 30,
    "start_time": "2022-01-27T13:13:10.558Z"
   },
   {
    "duration": 437,
    "start_time": "2022-01-27T13:13:10.590Z"
   },
   {
    "duration": 43,
    "start_time": "2022-01-27T13:13:11.029Z"
   },
   {
    "duration": 334,
    "start_time": "2022-01-27T14:22:12.088Z"
   },
   {
    "duration": 685,
    "start_time": "2022-01-27T14:22:19.753Z"
   },
   {
    "duration": 6,
    "start_time": "2022-01-27T14:22:20.440Z"
   },
   {
    "duration": 29,
    "start_time": "2022-01-27T14:22:20.448Z"
   },
   {
    "duration": 33,
    "start_time": "2022-01-27T14:22:20.479Z"
   },
   {
    "duration": 56,
    "start_time": "2022-01-27T14:22:20.514Z"
   },
   {
    "duration": 41,
    "start_time": "2022-01-27T14:22:20.572Z"
   },
   {
    "duration": 30,
    "start_time": "2022-01-27T14:22:20.614Z"
   },
   {
    "duration": 35,
    "start_time": "2022-01-27T14:22:20.646Z"
   },
   {
    "duration": 36,
    "start_time": "2022-01-27T14:22:20.683Z"
   },
   {
    "duration": 57,
    "start_time": "2022-01-27T14:22:20.721Z"
   },
   {
    "duration": 28,
    "start_time": "2022-01-27T14:22:20.779Z"
   },
   {
    "duration": 30,
    "start_time": "2022-01-27T14:22:20.809Z"
   },
   {
    "duration": 19,
    "start_time": "2022-01-27T14:22:20.841Z"
   },
   {
    "duration": 74,
    "start_time": "2022-01-27T14:22:20.861Z"
   },
   {
    "duration": 16,
    "start_time": "2022-01-27T14:22:20.937Z"
   },
   {
    "duration": 24,
    "start_time": "2022-01-27T14:22:20.954Z"
   },
   {
    "duration": 3625,
    "start_time": "2022-01-27T14:22:20.980Z"
   },
   {
    "duration": 54,
    "start_time": "2022-01-27T14:22:24.608Z"
   },
   {
    "duration": 37,
    "start_time": "2022-01-27T14:22:24.664Z"
   },
   {
    "duration": 20,
    "start_time": "2022-01-27T14:22:24.703Z"
   },
   {
    "duration": 282,
    "start_time": "2022-01-27T14:22:24.725Z"
   },
   {
    "duration": 22,
    "start_time": "2022-01-27T14:22:25.009Z"
   },
   {
    "duration": 251,
    "start_time": "2022-01-27T14:24:13.198Z"
   },
   {
    "duration": 19,
    "start_time": "2022-01-27T14:26:08.463Z"
   },
   {
    "duration": 20,
    "start_time": "2022-01-27T14:26:29.581Z"
   },
   {
    "duration": 634,
    "start_time": "2022-01-27T16:55:23.233Z"
   },
   {
    "duration": 5,
    "start_time": "2022-01-27T16:55:23.869Z"
   },
   {
    "duration": 27,
    "start_time": "2022-01-27T16:55:23.877Z"
   },
   {
    "duration": 18,
    "start_time": "2022-01-27T16:55:23.906Z"
   },
   {
    "duration": 17,
    "start_time": "2022-01-27T16:55:23.926Z"
   },
   {
    "duration": 7,
    "start_time": "2022-01-27T16:55:23.945Z"
   },
   {
    "duration": 10,
    "start_time": "2022-01-27T16:55:23.954Z"
   },
   {
    "duration": 5,
    "start_time": "2022-01-27T16:55:23.967Z"
   },
   {
    "duration": 9,
    "start_time": "2022-01-27T16:55:23.974Z"
   },
   {
    "duration": 14,
    "start_time": "2022-01-27T16:55:23.985Z"
   },
   {
    "duration": 25,
    "start_time": "2022-01-27T16:55:24.001Z"
   },
   {
    "duration": 28,
    "start_time": "2022-01-27T16:55:24.028Z"
   },
   {
    "duration": 31,
    "start_time": "2022-01-27T16:55:24.057Z"
   },
   {
    "duration": 66,
    "start_time": "2022-01-27T16:55:24.090Z"
   },
   {
    "duration": 17,
    "start_time": "2022-01-27T16:55:24.158Z"
   },
   {
    "duration": 19,
    "start_time": "2022-01-27T16:55:24.176Z"
   },
   {
    "duration": 3745,
    "start_time": "2022-01-27T16:55:24.196Z"
   },
   {
    "duration": 44,
    "start_time": "2022-01-27T16:55:27.943Z"
   },
   {
    "duration": 27,
    "start_time": "2022-01-27T16:55:27.989Z"
   },
   {
    "duration": 20,
    "start_time": "2022-01-27T16:55:28.018Z"
   },
   {
    "duration": 285,
    "start_time": "2022-01-27T16:55:28.040Z"
   },
   {
    "duration": 19,
    "start_time": "2022-01-27T16:55:28.327Z"
   }
  ],
  "kernelspec": {
   "display_name": "Python 3 (ipykernel)",
   "language": "python",
   "name": "python3"
  },
  "language_info": {
   "codemirror_mode": {
    "name": "ipython",
    "version": 3
   },
   "file_extension": ".py",
   "mimetype": "text/x-python",
   "name": "python",
   "nbconvert_exporter": "python",
   "pygments_lexer": "ipython3",
   "version": "3.9.5"
  },
  "toc": {
   "base_numbering": 1,
   "nav_menu": {},
   "number_sections": true,
   "sideBar": true,
   "skip_h1_title": true,
   "title_cell": "Table of Contents",
   "title_sidebar": "Contents",
   "toc_cell": false,
   "toc_position": {},
   "toc_section_display": true,
   "toc_window_display": false
  }
 },
 "nbformat": 4,
 "nbformat_minor": 2
}
